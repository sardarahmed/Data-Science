{
 "cells": [
  {
   "cell_type": "code",
   "execution_count": 1,
   "metadata": {},
   "outputs": [
    {
     "name": "stdout",
     "output_type": "stream",
     "text": [
      "None\n",
      "<re.Match object; span=(0, 1), match='c'>\n",
      "adz3ab\n"
     ]
    }
   ],
   "source": [
    "import re\n",
    "e = r'^[b-d]'\n",
    "s1 = re.match(e,'In this example, bad is bad but correct')\n",
    "s2 = re.match(e,'correct, perhaps, but not bad')\n",
    "s3 = re.sub(r'\\d?\\d\\w{3}', 'z', 'ad2ab23ab')\n",
    "\n",
    "print(s1)\n",
    "print(s2)\n",
    "print(s3)"
   ]
  },
  {
   "cell_type": "code",
   "execution_count": 21,
   "metadata": {},
   "outputs": [
    {
     "name": "stdout",
     "output_type": "stream",
     "text": [
      "<re.Match object; span=(0, 1), match='a'>\n",
      "<re.Match object; span=(0, 1), match='c'>\n",
      "<re.Match object; span=(0, 1), match='!'>\n"
     ]
    }
   ],
   "source": [
    "import re\n",
    "e = r'^[abc]'\n",
    "e2 = r'[\\W]'\n",
    "s1 = re.match(e,'an this example, bad is bad but correct')\n",
    "s2 = re.match(e,'correct, perhaps, but not bad')\n",
    "s3 = re.match(e2, '!hello')\n",
    "\n",
    "print(s1)\n",
    "print(s2)\n",
    "print(s3)"
   ]
  },
  {
   "cell_type": "code",
   "execution_count": 48,
   "metadata": {},
   "outputs": [
    {
     "name": "stdout",
     "output_type": "stream",
     "text": [
      "None\n",
      "None\n",
      "None\n",
      "adz3ab\n"
     ]
    }
   ],
   "source": [
    "#end with a word\n",
    "import re\n",
    "e = r'\\w$'\n",
    "st1 = re.match(e,'In this example, bad is bad but correct')\n",
    "st2 = re.match(e,'correct, perhaps, but not bad')\n",
    "st3 = re.match(e,'!hello')\n",
    "\n",
    "\n",
    "s3 = re.sub(r'\\d?\\d\\w{3}', 'z', 'ad2ab23ab')\n",
    "\n",
    "print(st1)\n",
    "print(st2)\n",
    "print(st3)\n",
    "print(s3)"
   ]
  },
  {
   "cell_type": "code",
   "execution_count": 52,
   "metadata": {},
   "outputs": [
    {
     "name": "stdout",
     "output_type": "stream",
     "text": [
      "hello\n",
      "world\n"
     ]
    }
   ],
   "source": [
    "import re\n",
    "match = re.search(r'(hello) (world)', ' hello world')\n",
    "print(match.group(1))  # Output: 'hello'\n",
    "print(match.group(2))  # Output: 'world'\n"
   ]
  },
  {
   "cell_type": "code",
   "execution_count": 50,
   "metadata": {},
   "outputs": [
    {
     "name": "stdout",
     "output_type": "stream",
     "text": [
      "Pattern: colou?r\n",
      "'color' matches\n",
      "'colour' matches\n",
      "'colouur' does not match\n",
      "\n",
      "Pattern: go*d\n",
      "'gd' matches\n",
      "'god' matches\n",
      "'good' matches\n",
      "'goood' matches\n",
      "\n",
      "Pattern: go+d\n",
      "'gd' does not match\n",
      "'god' matches\n",
      "'good' matches\n",
      "'goood' matches\n",
      "\n",
      "Pattern: a{3}\n",
      "'a' does not match\n",
      "'aa' does not match\n",
      "'aaa' matches\n",
      "'aaaa' matches\n",
      "\n",
      "Pattern: a{2,}\n",
      "'a' does not match\n",
      "'aa' matches\n",
      "'aaa' matches\n",
      "'aaaa' matches\n",
      "\n",
      "Pattern: a{2,4}\n",
      "'a' does not match\n",
      "'aa' matches\n",
      "'aaa' matches\n",
      "'aaaa' matches\n",
      "'aaaaa' matches\n",
      "\n"
     ]
    }
   ],
   "source": [
    "import re\n",
    "\n",
    "# Examples for each regex pattern\n",
    "\n",
    "# r? - 0 or 1 occurrence of r\n",
    "pattern1 = r'colou?r'\n",
    "example1 = ['color', 'colour', 'colouur']\n",
    "matches1 = [re.match(pattern1, word) for word in example1]\n",
    "\n",
    "# r* - 0 or more occurrences of r\n",
    "pattern2 = r'go*d'\n",
    "example2 = ['gd', 'god', 'good', 'goood']\n",
    "matches2 = [re.match(pattern2, word) for word in example2]\n",
    "\n",
    "# r+ - 1 or more occurrences of r\n",
    "pattern3 = r'go+d'\n",
    "example3 = ['gd', 'god', 'good', 'goood']\n",
    "matches3 = [re.match(pattern3, word) for word in example3]\n",
    "\n",
    "# r{n} - Exactly n occurrences of r\n",
    "pattern4 = r'a{3}'\n",
    "example4 = ['a', 'aa', 'aaa', 'aaaa']\n",
    "matches4 = [re.match(pattern4, word) for word in example4]\n",
    "\n",
    "# r{n,} - At least n occurrences of r\n",
    "pattern5 = r'a{2,}'\n",
    "example5 = ['a', 'aa', 'aaa', 'aaaa']\n",
    "matches5 = [re.match(pattern5, word) for word in example5]\n",
    "\n",
    "# r{min,max} - Between min and max occurrences\n",
    "pattern6 = r'a{2,4}'\n",
    "example6 = ['a', 'aa', 'aaa', 'aaaa', 'aaaaa']\n",
    "matches6 = [re.match(pattern6, word) for word in example6]\n",
    "\n",
    "# Print results\n",
    "def print_matches(pattern, examples, matches):\n",
    "    print(f\"Pattern: {pattern}\")\n",
    "    for example, match in zip(examples, matches):\n",
    "        if match:\n",
    "            print(f\"'{example}' matches\")\n",
    "        else:\n",
    "            print(f\"'{example}' does not match\")\n",
    "    print()\n",
    "\n",
    "print_matches(pattern1, example1, matches1)\n",
    "print_matches(pattern2, example2, matches2)\n",
    "print_matches(pattern3, example3, matches3)\n",
    "print_matches(pattern4, example4, matches4)\n",
    "print_matches(pattern5, example5, matches5)\n",
    "print_matches(pattern6, example6, matches6)"
   ]
  },
  {
   "cell_type": "code",
   "execution_count": 53,
   "metadata": {},
   "outputs": [
    {
     "name": "stdout",
     "output_type": "stream",
     "text": [
      "Pattern: ahmed(?=ali)\n",
      "'ahmedali' matches\n",
      "'ahmed' does not match\n",
      "'ahmed ali' does not match\n",
      "\n",
      "Pattern: ahmed(?!ali)\n",
      "'ahmedali' does not match\n",
      "'ahmed' matches\n",
      "'ahmed ali' matches\n",
      "\n",
      "Pattern: (?<=ali)ahmed\n",
      "'ali ahmed' does not match\n",
      "'ahmed' does not match\n",
      "'ali ahmed' does not match\n",
      "\n",
      "Pattern: (?<!ali)ahmed\n",
      "'ali ahmed' does not match\n",
      "'ahmed' matches\n",
      "'ali ahmed' does not match\n",
      "\n"
     ]
    }
   ],
   "source": [
    "#positive look ahead\n",
    "# negative look ahead\n",
    "\n",
    "\n",
    "#positive lookbehind\n",
    "# negative lookbehind\n",
    "\n",
    "import re\n",
    "\n",
    "pr1 = r'ahmed(?=ali)'\n",
    "pr2 = r'ahmed(?!ali)'\n",
    "pr3 = r'(?<=ali)ahmed'\n",
    "pr4 = r'(?<!ali)ahmed'\n",
    "\n",
    "\n",
    "ex1 = ['ahmedali', 'ahmed', 'ahmed ali']\n",
    "ex2 = ['ahmedali', 'ahmed', 'ahmed ali']\n",
    "ex3 = ['ali ahmed', 'ahmed', 'ali ahmed']\n",
    "ex4 = ['ali ahmed', 'ahmed', 'ali ahmed']\n",
    "\n",
    "m1 = [re.match(pr1, word) for word in ex1]\n",
    "m2 = [re.match(pr2, word) for word in ex2]\n",
    "m3 = [re.match(pr3, word) for word in ex3]\n",
    "m4 = [re.match(pr4, word) for word in ex4]\n",
    "\n",
    "def print_matches(pattern, examples, matches):\n",
    "    print(f\"Pattern: {pattern}\")\n",
    "    for example, match in zip(examples, matches):\n",
    "        if match:\n",
    "            print(f\"'{example}' matches\")\n",
    "        else:\n",
    "            print(f\"'{example}' does not match\")\n",
    "    print()\n",
    "\n",
    "print_matches(pr1, ex1, m1)\n",
    "print_matches(pr2, ex2, m2)\n",
    "print_matches(pr3, ex3, m3)\n",
    "print_matches(pr4, ex4, m4)"
   ]
  },
  {
   "cell_type": "code",
   "execution_count": null,
   "metadata": {},
   "outputs": [],
   "source": []
  }
 ],
 "metadata": {
  "kernelspec": {
   "display_name": "Python 3",
   "language": "python",
   "name": "python3"
  },
  "language_info": {
   "codemirror_mode": {
    "name": "ipython",
    "version": 3
   },
   "file_extension": ".py",
   "mimetype": "text/x-python",
   "name": "python",
   "nbconvert_exporter": "python",
   "pygments_lexer": "ipython3",
   "version": "3.12.2"
  }
 },
 "nbformat": 4,
 "nbformat_minor": 2
}
