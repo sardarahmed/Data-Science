{
  "cells": [
    {
      "cell_type": "markdown",
      "id": "f5cb8f6c-94df-4e39-b208-e54edc3a9df6",
      "metadata": {
        "id": "f5cb8f6c-94df-4e39-b208-e54edc3a9df6"
      },
      "source": [
        "# Hands-On NLP — Class 3"
      ]
    },
    {
      "cell_type": "markdown",
      "id": "aaf60f2c",
      "metadata": {
        "id": "aaf60f2c"
      },
      "source": [
        "<span style=\"color:magenta\">Group Names:</span>\n",
        "\n",
        "* Name 1\n",
        "* Name 2\n",
        "* Name 3"
      ]
    },
    {
      "cell_type": "markdown",
      "id": "1e5beddc-b0f9-4cb4-92a7-e1270c541dd0",
      "metadata": {
        "id": "1e5beddc-b0f9-4cb4-92a7-e1270c541dd0"
      },
      "source": [
        "## Outline\n",
        "\n",
        "- Better vectors: Tf-idf\n",
        "\n",
        "- Ngrams\n",
        "\n",
        "- Text generation"
      ]
    },
    {
      "cell_type": "code",
      "execution_count": 2,
      "id": "a6366df5-2396-4222-8760-37060a1dc94c",
      "metadata": {
        "id": "a6366df5-2396-4222-8760-37060a1dc94c"
      },
      "outputs": [],
      "source": [
        "import re\n",
        "import collections\n",
        "from pathlib import Path\n",
        "\n",
        "import matplotlib.pyplot as plt\n",
        "import nltk\n",
        "import numpy as np\n",
        "import pandas as pd\n",
        "import seaborn as sns\n",
        "import sklearn\n",
        "from nltk.tokenize import word_tokenize\n",
        "from sklearn import decomposition, naive_bayes\n",
        "from sklearn.feature_extraction.text import CountVectorizer, TfidfVectorizer\n",
        "from sklearn.metrics import (\n",
        "    ConfusionMatrixDisplay,\n",
        "    accuracy_score,\n",
        "    classification_report,\n",
        "    confusion_matrix,\n",
        ")\n",
        "from sklearn.metrics import precision_recall_fscore_support as score\n",
        "from sklearn.model_selection import train_test_split\n",
        "from tqdm.notebook import tqdm"
      ]
    },
    {
      "cell_type": "code",
      "execution_count": 3,
      "id": "a8c44f31",
      "metadata": {
        "id": "a8c44f31"
      },
      "outputs": [
        {
          "name": "stdout",
          "output_type": "stream",
          "text": [
            "sklearn's version: 1.6.0\n",
            "nltk's version: 3.9.1\n",
            "pandas's version: 2.2.3\n"
          ]
        },
        {
          "name": "stderr",
          "output_type": "stream",
          "text": [
            "[nltk_data] Downloading package punkt to /home/codespace/nltk_data...\n",
            "[nltk_data]   Package punkt is already up-to-date!\n",
            "[nltk_data] Downloading package punkt_tab to\n",
            "[nltk_data]     /home/codespace/nltk_data...\n",
            "[nltk_data]   Package punkt_tab is already up-to-date!\n"
          ]
        }
      ],
      "source": [
        "tqdm.pandas()\n",
        "\n",
        "nltk.download(\"punkt\")\n",
        "nltk.download(\"punkt_tab\")\n",
        "\n",
        "sns.set_style(\"darkgrid\")\n",
        "sns.set_context(\"notebook\")\n",
        "\n",
        "pd.set_option(\"display.precision\", 4)\n",
        "\n",
        "print(\"sklearn's version:\", sklearn.__version__)    # 1.3.2\n",
        "print(\"nltk's version:\", nltk.__version__)          # 3.8.1\n",
        "print(\"pandas's version:\", pd.__version__)          # 2.1.4"
      ]
    },
    {
      "cell_type": "code",
      "execution_count": 4,
      "id": "2a0b2586-f2bf-49af-bd7b-a24ce918eee1",
      "metadata": {
        "id": "2a0b2586-f2bf-49af-bd7b-a24ce918eee1"
      },
      "outputs": [],
      "source": [
        "%config InlineBackend.figure_format=\"retina\"  # For high DPI display"
      ]
    },
    {
      "cell_type": "markdown",
      "id": "c0cece58",
      "metadata": {
        "id": "c0cece58"
      },
      "source": [
        "## Getting the data"
      ]
    },
    {
      "cell_type": "code",
      "execution_count": 5,
      "id": "467e1198-37f5-4bc4-98cc-28fbf0b10c34",
      "metadata": {
        "id": "467e1198-37f5-4bc4-98cc-28fbf0b10c34"
      },
      "outputs": [],
      "source": [
        "#DATA = Path(\"/workspaces/Data-Scientist/NLP TP/texts\")\n",
        "\n",
        "\n",
        "TEXT_P = Path(\"/workspaces/Data-Scientist/NLP TP/texts\")\n",
        "\n",
        "CORPORA = [\n",
        "    \"mythology\",\n",
        "    \"woodworking\",\n",
        "    \"robotics\",\n",
        "    \"hsm\",\n",
        "    \"health\",\n",
        "    \"portuguese\",\n",
        "]\n",
        "\n",
        "EPS = np.finfo(float).eps\n",
        "\n",
        "\n"
      ]
    },
    {
      "cell_type": "code",
      "execution_count": 6,
      "id": "45164744-82eb-44ad-b6d9-1a9da7ff8fd6",
      "metadata": {
        "id": "45164744-82eb-44ad-b6d9-1a9da7ff8fd6"
      },
      "outputs": [
        {
          "data": {
            "application/vnd.jupyter.widget-view+json": {
              "model_id": "d6774fa0b65a464ba38cb0727350d6de",
              "version_major": 2,
              "version_minor": 0
            },
            "text/plain": [
              "  0%|          | 0/6 [00:00<?, ?it/s]"
            ]
          },
          "metadata": {},
          "output_type": "display_data"
        },
        {
          "name": "stdout",
          "output_type": "stream",
          "text": [
            "mythology\n",
            "woodworking\n",
            "robotics\n",
            "hsm\n",
            "health\n",
            "portuguese\n"
          ]
        }
      ],
      "source": [
        "data = []\n",
        "\n",
        "for i, corpus in enumerate(tqdm(CORPORA)):\n",
        "    print(corpus)\n",
        "    for fp in (TEXT_P / corpus).glob(\"*.txt\"):\n",
        "        with fp.open() as f:\n",
        "            text = f.read()\n",
        "        data.append(\n",
        "            {\n",
        "                \"id\": fp.stem,\n",
        "                \"text\": text,\n",
        "                \"category\": corpus,\n",
        "                \"cat_id\": i,\n",
        "            }\n",
        "        )"
      ]
    },
    {
      "cell_type": "code",
      "execution_count": 7,
      "id": "6d42f8c4-504f-43c0-b174-5396a852f426",
      "metadata": {
        "id": "6d42f8c4-504f-43c0-b174-5396a852f426"
      },
      "outputs": [
        {
          "data": {
            "text/html": [
              "<div>\n",
              "<style scoped>\n",
              "    .dataframe tbody tr th:only-of-type {\n",
              "        vertical-align: middle;\n",
              "    }\n",
              "\n",
              "    .dataframe tbody tr th {\n",
              "        vertical-align: top;\n",
              "    }\n",
              "\n",
              "    .dataframe thead th {\n",
              "        text-align: right;\n",
              "    }\n",
              "</style>\n",
              "<table border=\"1\" class=\"dataframe\">\n",
              "  <thead>\n",
              "    <tr style=\"text-align: right;\">\n",
              "      <th></th>\n",
              "      <th>text</th>\n",
              "      <th>category</th>\n",
              "      <th>cat_id</th>\n",
              "    </tr>\n",
              "    <tr>\n",
              "      <th>id</th>\n",
              "      <th></th>\n",
              "      <th></th>\n",
              "      <th></th>\n",
              "    </tr>\n",
              "  </thead>\n",
              "  <tbody>\n",
              "    <tr>\n",
              "      <th>mythology.stackexchange_0000000302</th>\n",
              "      <td>Q:\\n\\nWere Romulus and Remus real people?\\n\\nI...</td>\n",
              "      <td>mythology</td>\n",
              "      <td>0</td>\n",
              "    </tr>\n",
              "    <tr>\n",
              "      <th>mythology.stackexchange_0000007698</th>\n",
              "      <td>Q:\\n\\nHow old was Nestor?\\n\\nI am rereading th...</td>\n",
              "      <td>mythology</td>\n",
              "      <td>0</td>\n",
              "    </tr>\n",
              "    <tr>\n",
              "      <th>mythology.stackexchange_0000001333</th>\n",
              "      <td>Q:\\n\\nWhat is the earliest recorded example of...</td>\n",
              "      <td>mythology</td>\n",
              "      <td>0</td>\n",
              "    </tr>\n",
              "    <tr>\n",
              "      <th>mythology.stackexchange_0000000182</th>\n",
              "      <td>Q:\\n\\nWas the constellation named after the Bu...</td>\n",
              "      <td>mythology</td>\n",
              "      <td>0</td>\n",
              "    </tr>\n",
              "    <tr>\n",
              "      <th>mythology.stackexchange_0000010170</th>\n",
              "      <td>Q:\\n\\nWhat does Aphrodite’s magical girdle loo...</td>\n",
              "      <td>mythology</td>\n",
              "      <td>0</td>\n",
              "    </tr>\n",
              "    <tr>\n",
              "      <th>...</th>\n",
              "      <td>...</td>\n",
              "      <td>...</td>\n",
              "      <td>...</td>\n",
              "    </tr>\n",
              "    <tr>\n",
              "      <th>portuguese.stackexchange_0000004561</th>\n",
              "      <td>Q:\\n\\nVão ou Vam, Como posso usá-los?\\n\\nEm um...</td>\n",
              "      <td>portuguese</td>\n",
              "      <td>5</td>\n",
              "    </tr>\n",
              "    <tr>\n",
              "      <th>portuguese.stackexchange_0000003362</th>\n",
              "      <td>Q:\\n\\nExiste uma palavra para indicar \"anivers...</td>\n",
              "      <td>portuguese</td>\n",
              "      <td>5</td>\n",
              "    </tr>\n",
              "    <tr>\n",
              "      <th>portuguese.stackexchange_0000009102</th>\n",
              "      <td>Q:\\n\\nSemantic difference between \"com\" and \"n...</td>\n",
              "      <td>portuguese</td>\n",
              "      <td>5</td>\n",
              "    </tr>\n",
              "    <tr>\n",
              "      <th>portuguese.stackexchange_0000000084</th>\n",
              "      <td>Q:\\n\\nQuando utilizar \"mim\" ou \"eu\"?\\n\\nQuando...</td>\n",
              "      <td>portuguese</td>\n",
              "      <td>5</td>\n",
              "    </tr>\n",
              "    <tr>\n",
              "      <th>portuguese.stackexchange_0000008470</th>\n",
              "      <td>Q:\\n\\nO que significa \"re\" no começo das palav...</td>\n",
              "      <td>portuguese</td>\n",
              "      <td>5</td>\n",
              "    </tr>\n",
              "  </tbody>\n",
              "</table>\n",
              "<p>52682 rows × 3 columns</p>\n",
              "</div>"
            ],
            "text/plain": [
              "                                                                                  text  \\\n",
              "id                                                                                       \n",
              "mythology.stackexchange_0000000302   Q:\\n\\nWere Romulus and Remus real people?\\n\\nI...   \n",
              "mythology.stackexchange_0000007698   Q:\\n\\nHow old was Nestor?\\n\\nI am rereading th...   \n",
              "mythology.stackexchange_0000001333   Q:\\n\\nWhat is the earliest recorded example of...   \n",
              "mythology.stackexchange_0000000182   Q:\\n\\nWas the constellation named after the Bu...   \n",
              "mythology.stackexchange_0000010170   Q:\\n\\nWhat does Aphrodite’s magical girdle loo...   \n",
              "...                                                                                ...   \n",
              "portuguese.stackexchange_0000004561  Q:\\n\\nVão ou Vam, Como posso usá-los?\\n\\nEm um...   \n",
              "portuguese.stackexchange_0000003362  Q:\\n\\nExiste uma palavra para indicar \"anivers...   \n",
              "portuguese.stackexchange_0000009102  Q:\\n\\nSemantic difference between \"com\" and \"n...   \n",
              "portuguese.stackexchange_0000000084  Q:\\n\\nQuando utilizar \"mim\" ou \"eu\"?\\n\\nQuando...   \n",
              "portuguese.stackexchange_0000008470  Q:\\n\\nO que significa \"re\" no começo das palav...   \n",
              "\n",
              "                                       category  cat_id  \n",
              "id                                                       \n",
              "mythology.stackexchange_0000000302    mythology       0  \n",
              "mythology.stackexchange_0000007698    mythology       0  \n",
              "mythology.stackexchange_0000001333    mythology       0  \n",
              "mythology.stackexchange_0000000182    mythology       0  \n",
              "mythology.stackexchange_0000010170    mythology       0  \n",
              "...                                         ...     ...  \n",
              "portuguese.stackexchange_0000004561  portuguese       5  \n",
              "portuguese.stackexchange_0000003362  portuguese       5  \n",
              "portuguese.stackexchange_0000009102  portuguese       5  \n",
              "portuguese.stackexchange_0000000084  portuguese       5  \n",
              "portuguese.stackexchange_0000008470  portuguese       5  \n",
              "\n",
              "[52682 rows x 3 columns]"
            ]
          },
          "execution_count": 7,
          "metadata": {},
          "output_type": "execute_result"
        }
      ],
      "source": [
        "all_df = pd.DataFrame.from_records(data, index=[\"id\"])\n",
        "all_df = all_df.drop(\"robotics.stackexchange_0000005103\")\n",
        "all_df"
      ]
    },
    {
      "cell_type": "markdown",
      "id": "6ea5c0ff-1200-4d45-b7b3-8fded7343f8d",
      "metadata": {
        "id": "6ea5c0ff-1200-4d45-b7b3-8fded7343f8d"
      },
      "source": [
        "---\n",
        "Here the initialization of `all_df` is done and you can jump to your favorite classification\n",
        "___"
      ]
    },
    {
      "cell_type": "code",
      "execution_count": 8,
      "id": "41a2eb62-3309-4636-bca7-8abb87d0a053",
      "metadata": {
        "id": "41a2eb62-3309-4636-bca7-8abb87d0a053"
      },
      "outputs": [
        {
          "data": {
            "image/png": "[encoded data removed]",
            "text/plain": [
              "<Figure size 640x480 with 1 Axes>"
            ]
          },
          "metadata": {
            "image/png": {
              "height": 525,
              "width": 577
            }
          },
          "output_type": "display_data"
        }
      ],
      "source": [
        "all_df.groupby(\"category\").size().plot.bar()\n",
        "plt.grid(axis=\"x\")"
      ]
    },
    {
      "cell_type": "markdown",
      "id": "5ff3abc6-c173-4705-b563-f194f7426990",
      "metadata": {
        "id": "5ff3abc6-c173-4705-b563-f194f7426990"
      },
      "source": [
        "## Vectorize"
      ]
    },
    {
      "cell_type": "code",
      "execution_count": 9,
      "id": "07eb09d9-a25f-4d44-b836-4244a8a2fedc",
      "metadata": {
        "id": "07eb09d9-a25f-4d44-b836-4244a8a2fedc"
      },
      "outputs": [
        {
          "data": {
            "text/html": [
              "<div>\n",
              "<style scoped>\n",
              "    .dataframe tbody tr th:only-of-type {\n",
              "        vertical-align: middle;\n",
              "    }\n",
              "\n",
              "    .dataframe tbody tr th {\n",
              "        vertical-align: top;\n",
              "    }\n",
              "\n",
              "    .dataframe thead th {\n",
              "        text-align: right;\n",
              "    }\n",
              "</style>\n",
              "<table border=\"1\" class=\"dataframe\">\n",
              "  <thead>\n",
              "    <tr style=\"text-align: right;\">\n",
              "      <th></th>\n",
              "      <th>and</th>\n",
              "      <th>document</th>\n",
              "      <th>first</th>\n",
              "      <th>is</th>\n",
              "      <th>one</th>\n",
              "      <th>second</th>\n",
              "      <th>the</th>\n",
              "      <th>third</th>\n",
              "      <th>this</th>\n",
              "    </tr>\n",
              "  </thead>\n",
              "  <tbody>\n",
              "    <tr>\n",
              "      <th>This is the first document.</th>\n",
              "      <td>0</td>\n",
              "      <td>1</td>\n",
              "      <td>1</td>\n",
              "      <td>1</td>\n",
              "      <td>0</td>\n",
              "      <td>0</td>\n",
              "      <td>1</td>\n",
              "      <td>0</td>\n",
              "      <td>1</td>\n",
              "    </tr>\n",
              "    <tr>\n",
              "      <th>This document is the second document.</th>\n",
              "      <td>0</td>\n",
              "      <td>2</td>\n",
              "      <td>0</td>\n",
              "      <td>1</td>\n",
              "      <td>0</td>\n",
              "      <td>1</td>\n",
              "      <td>1</td>\n",
              "      <td>0</td>\n",
              "      <td>1</td>\n",
              "    </tr>\n",
              "    <tr>\n",
              "      <th>And this is the third one.</th>\n",
              "      <td>1</td>\n",
              "      <td>0</td>\n",
              "      <td>0</td>\n",
              "      <td>1</td>\n",
              "      <td>1</td>\n",
              "      <td>0</td>\n",
              "      <td>1</td>\n",
              "      <td>1</td>\n",
              "      <td>1</td>\n",
              "    </tr>\n",
              "    <tr>\n",
              "      <th>Is this the first document?</th>\n",
              "      <td>0</td>\n",
              "      <td>1</td>\n",
              "      <td>1</td>\n",
              "      <td>1</td>\n",
              "      <td>0</td>\n",
              "      <td>0</td>\n",
              "      <td>1</td>\n",
              "      <td>0</td>\n",
              "      <td>1</td>\n",
              "    </tr>\n",
              "  </tbody>\n",
              "</table>\n",
              "</div>"
            ],
            "text/plain": [
              "                                       and  document  first  is  one  second  \\\n",
              "This is the first document.              0         1      1   1    0       0   \n",
              "This document is the second document.    0         2      0   1    0       1   \n",
              "And this is the third one.               1         0      0   1    1       0   \n",
              "Is this the first document?              0         1      1   1    0       0   \n",
              "\n",
              "                                       the  third  this  \n",
              "This is the first document.              1      0     1  \n",
              "This document is the second document.    1      0     1  \n",
              "And this is the third one.               1      1     1  \n",
              "Is this the first document?              1      0     1  "
            ]
          },
          "execution_count": 9,
          "metadata": {},
          "output_type": "execute_result"
        }
      ],
      "source": [
        "corpus = [\n",
        "    \"This is the first document.\",\n",
        "    \"This document is the second document.\",\n",
        "    \"And this is the third one.\",\n",
        "    \"Is this the first document?\",\n",
        "]\n",
        "\n",
        "vectorizer = CountVectorizer()\n",
        "xs = vectorizer.fit_transform(corpus).toarray()\n",
        "\n",
        "cv_df = pd.DataFrame(xs, index=corpus, columns=vectorizer.get_feature_names_out())\n",
        "cv_df"
      ]
    },
    {
      "cell_type": "markdown",
      "id": "9bb0c06d",
      "metadata": {
        "id": "9bb0c06d"
      },
      "source": [
        "### TF-IDF\n",
        "\n",
        "- The counting of words is not the ideal way to represent a document\n",
        "\n",
        "- Instead of counting the number of occurences of a word, we could weight it by the number of documents it appears in\n",
        "\n",
        "- Term Frequency - Inverse Document Frequency"
      ]
    },
    {
      "cell_type": "markdown",
      "id": "4637a874",
      "metadata": {
        "id": "4637a874"
      },
      "source": [
        "#### From [Wikipedia](https://en.wikipedia.org/wiki/Tf-idf):\n",
        "\n",
        "**Term frequency**\n",
        "\n",
        "$$\\operatorname{tf}(t,d) = \\frac{f_{t,d}}{{\\sum_{t' \\in d}{f_{t',d}}}}$$\n",
        "\n",
        "**Inverse document frequency**\n",
        "\n",
        "$$\\operatorname{idf}(t, D) =  - \\log \\frac{|\\{d \\in D: t \\in d\\}|}{N} =\n",
        "    -\\log \\left({\\frac {n_{t}}{N}}\\right) $$\n",
        "\n",
        "N: total number of documents in the corpus $N = {|D|}$\n",
        "\n",
        "**Smoothed IDF:**\n",
        "\n",
        "$$\\operatorname{idf}(t, D) = - \\log \\left( \\frac {1 + n_t} {N}\\right)+ 1$$"
      ]
    },
    {
      "cell_type": "markdown",
      "id": "6b3bc67e",
      "metadata": {
        "id": "6b3bc67e"
      },
      "source": [
        "#### From [scikit-learn documentation](https://scikit-learn.org/stable/modules/feature_extraction.html#tfidf-term-weighting):\n",
        "\n",
        "In `TfidfVectorizer`, the implementation is slightly different:\n",
        "\n",
        "*   For the IDF:\n",
        "\n",
        "    *   Unsmoothed version (`smooth_idf=False`), though a $+1$ is applied to avoid a value of 0 for the IDF:\n",
        "    $$\\operatorname{idf}(t, D) = -\\log \\left({\\frac {n_{t}}{N}}\\right) + 1$$\n",
        "\n",
        "    *   Smoothed version (`smooth_idf=True`):\n",
        "    $$\\operatorname{idf}(t, D) = - \\log \\left( \\frac {1 + n_t} {1 + N}\\right)+ 1$$\n",
        "\n",
        "*   `TFIDF = tf(t, d) * idf(t, D)`\n",
        "\n",
        "*   `tf(t, d)` is the **count** of the term `t` in the document `d`, not the **frequency** (**no division!**)\n",
        "\n",
        "*   Then a global normalization is applied: `TFIDF = TFIDF / norm(TFIDF)`\n",
        "    \n",
        "    (instead of a normalization within `tf` only to obtain a frequency)\n",
        "\n",
        "*   `norm` is the L2 norm by default, but can be changed to L1 or `None`."
      ]
    },
    {
      "cell_type": "markdown",
      "id": "700d233a",
      "metadata": {
        "id": "700d233a"
      },
      "source": [
        "#### 🚧 TODO: Count vs. Freq vectorizers\n",
        "\n",
        "Compare the previous results of the `CountVectorizer` with the `TfidfVectorizer` on the same toy dataset."
      ]
    },
    {
      "cell_type": "code",
      "execution_count": 10,
      "id": "9096c2b1-4a5a-415d-94a3-b282c21c80ed",
      "metadata": {
        "id": "9096c2b1-4a5a-415d-94a3-b282c21c80ed"
      },
      "outputs": [
        {
          "data": {
            "text/html": [
              "<div>\n",
              "<style scoped>\n",
              "    .dataframe tbody tr th:only-of-type {\n",
              "        vertical-align: middle;\n",
              "    }\n",
              "\n",
              "    .dataframe tbody tr th {\n",
              "        vertical-align: top;\n",
              "    }\n",
              "\n",
              "    .dataframe thead th {\n",
              "        text-align: right;\n",
              "    }\n",
              "</style>\n",
              "<table border=\"1\" class=\"dataframe\">\n",
              "  <thead>\n",
              "    <tr style=\"text-align: right;\">\n",
              "      <th></th>\n",
              "      <th>and</th>\n",
              "      <th>document</th>\n",
              "      <th>first</th>\n",
              "      <th>is</th>\n",
              "      <th>one</th>\n",
              "      <th>second</th>\n",
              "      <th>the</th>\n",
              "      <th>third</th>\n",
              "      <th>this</th>\n",
              "    </tr>\n",
              "  </thead>\n",
              "  <tbody>\n",
              "    <tr>\n",
              "      <th>This is the first document.</th>\n",
              "      <td>0.0000</td>\n",
              "      <td>0.4698</td>\n",
              "      <td>0.5803</td>\n",
              "      <td>0.3841</td>\n",
              "      <td>0.0000</td>\n",
              "      <td>0.0000</td>\n",
              "      <td>0.3841</td>\n",
              "      <td>0.0000</td>\n",
              "      <td>0.3841</td>\n",
              "    </tr>\n",
              "    <tr>\n",
              "      <th>This document is the second document.</th>\n",
              "      <td>0.0000</td>\n",
              "      <td>0.6876</td>\n",
              "      <td>0.0000</td>\n",
              "      <td>0.2811</td>\n",
              "      <td>0.0000</td>\n",
              "      <td>0.5386</td>\n",
              "      <td>0.2811</td>\n",
              "      <td>0.0000</td>\n",
              "      <td>0.2811</td>\n",
              "    </tr>\n",
              "    <tr>\n",
              "      <th>And this is the third one.</th>\n",
              "      <td>0.5118</td>\n",
              "      <td>0.0000</td>\n",
              "      <td>0.0000</td>\n",
              "      <td>0.2671</td>\n",
              "      <td>0.5118</td>\n",
              "      <td>0.0000</td>\n",
              "      <td>0.2671</td>\n",
              "      <td>0.5118</td>\n",
              "      <td>0.2671</td>\n",
              "    </tr>\n",
              "    <tr>\n",
              "      <th>Is this the first document?</th>\n",
              "      <td>0.0000</td>\n",
              "      <td>0.4698</td>\n",
              "      <td>0.5803</td>\n",
              "      <td>0.3841</td>\n",
              "      <td>0.0000</td>\n",
              "      <td>0.0000</td>\n",
              "      <td>0.3841</td>\n",
              "      <td>0.0000</td>\n",
              "      <td>0.3841</td>\n",
              "    </tr>\n",
              "  </tbody>\n",
              "</table>\n",
              "</div>"
            ],
            "text/plain": [
              "                                          and  document   first      is  \\\n",
              "This is the first document.            0.0000    0.4698  0.5803  0.3841   \n",
              "This document is the second document.  0.0000    0.6876  0.0000  0.2811   \n",
              "And this is the third one.             0.5118    0.0000  0.0000  0.2671   \n",
              "Is this the first document?            0.0000    0.4698  0.5803  0.3841   \n",
              "\n",
              "                                          one  second     the   third    this  \n",
              "This is the first document.            0.0000  0.0000  0.3841  0.0000  0.3841  \n",
              "This document is the second document.  0.0000  0.5386  0.2811  0.0000  0.2811  \n",
              "And this is the third one.             0.5118  0.0000  0.2671  0.5118  0.2671  \n",
              "Is this the first document?            0.0000  0.0000  0.3841  0.0000  0.3841  "
            ]
          },
          "execution_count": 10,
          "metadata": {},
          "output_type": "execute_result"
        }
      ],
      "source": [
        "vectorizer = TfidfVectorizer()\n",
        "xs = vectorizer.fit_transform(corpus).toarray()\n",
        "tf_idf = pd.DataFrame(xs, index=corpus, columns=vectorizer.get_feature_names_out())\n",
        "tf_idf"
      ]
    },
    {
      "cell_type": "markdown",
      "id": "d5642f69-afc2-437e-b4dc-e78b8f1112a5",
      "metadata": {
        "id": "d5642f69-afc2-437e-b4dc-e78b8f1112a5"
      },
      "source": [
        "### Let's now classify the StackOverflow documents in their respective corpus label\n",
        "\n",
        "*   The complete corpus: `all_df`\n",
        "\n",
        "*   Let's use the different vectorizers for representation"
      ]
    },
    {
      "cell_type": "code",
      "execution_count": 11,
      "id": "04236c43",
      "metadata": {
        "id": "04236c43"
      },
      "outputs": [],
      "source": [
        "ys = all_df.cat_id.values\n"
      ]
    },
    {
      "cell_type": "code",
      "execution_count": 12,
      "id": "a08f9f72-443a-416a-9537-2f000ce5117d",
      "metadata": {
        "id": "a08f9f72-443a-416a-9537-2f000ce5117d"
      },
      "outputs": [],
      "source": [
        "cv = CountVectorizer(max_features=5000)\n",
        "xs = cv.fit_transform(all_df.text).toarray()"
      ]
    },
    {
      "cell_type": "code",
      "execution_count": 13,
      "id": "7977ca29",
      "metadata": {
        "id": "7977ca29"
      },
      "outputs": [
        {
          "name": "stdout",
          "output_type": "stream",
          "text": [
            "xs.shape = (52682, 5000)\n",
            "ys.shape = (52682,)\n"
          ]
        }
      ],
      "source": [
        "print(\"xs.shape =\", xs.shape)\n",
        "print(\"ys.shape =\", ys.shape)"
      ]
    },
    {
      "cell_type": "code",
      "execution_count": 14,
      "id": "c757fdd0-615f-415b-8a59-cc4fbabba1c4",
      "metadata": {
        "id": "c757fdd0-615f-415b-8a59-cc4fbabba1c4"
      },
      "outputs": [
        {
          "name": "stdout",
          "output_type": "stream",
          "text": [
            "(36877, 5000)\n",
            "(15805, 5000)\n"
          ]
        }
      ],
      "source": [
        "train_xs, test_xs, train_ys, test_ys = train_test_split(\n",
        "    xs, ys, test_size=0.3, random_state=0, shuffle=True\n",
        ")\n",
        "print(train_xs.shape)\n",
        "print(test_xs.shape)"
      ]
    },
    {
      "cell_type": "markdown",
      "id": "b1f450b8",
      "metadata": {
        "id": "b1f450b8"
      },
      "source": [
        "#### 🚧 TODO: `CountVectorizer` vs. `TfidfVectorizer` classifiers\n",
        "\n",
        "*   Limit to the 5000 most frequent words to reduce the dimensionality\n",
        "\n",
        "    (the sparse matrix `toarray()` method crashes if no reduction of features is applied)\n",
        "\n",
        "*   Use both to classify the data based on, e.g., the `MultinomialNB` classifier\n",
        "\n",
        "*   Compare their results in terms of accuracy and show their `classification_report`"
      ]
    },
    {
      "cell_type": "code",
      "execution_count": 15,
      "id": "5697698d",
      "metadata": {},
      "outputs": [
        {
          "name": "stdout",
          "output_type": "stream",
          "text": [
            "Test accuracy: 0.9681113571654539\n",
            "              precision    recall  f1-score   support\n",
            "\n",
            "           0       0.89      0.99      0.94       433\n",
            "           1       0.81      1.00      0.89       879\n",
            "           2       1.00      0.97      0.98     11887\n",
            "           3       0.84      0.96      0.89       853\n",
            "           4       0.93      0.98      0.95      1117\n",
            "           5       1.00      0.91      0.95       636\n",
            "\n",
            "    accuracy                           0.97     15805\n",
            "   macro avg       0.91      0.97      0.93     15805\n",
            "weighted avg       0.97      0.97      0.97     15805\n",
            "\n"
          ]
        },
        {
          "data": {
            "text/html": [
              "<style>#sk-container-id-1 {\n",
              "  /* Definition of color scheme common for light and dark mode */\n",
              "  --sklearn-color-text: #000;\n",
              "  --sklearn-color-text-muted: #666;\n",
              "  --sklearn-color-line: gray;\n",
              "  /* Definition of color scheme for unfitted estimators */\n",
              "  --sklearn-color-unfitted-level-0: #fff5e6;\n",
              "  --sklearn-color-unfitted-level-1: #f6e4d2;\n",
              "  --sklearn-color-unfitted-level-2: #ffe0b3;\n",
              "  --sklearn-color-unfitted-level-3: chocolate;\n",
              "  /* Definition of color scheme for fitted estimators */\n",
              "  --sklearn-color-fitted-level-0: #f0f8ff;\n",
              "  --sklearn-color-fitted-level-1: #d4ebff;\n",
              "  --sklearn-color-fitted-level-2: #b3dbfd;\n",
              "  --sklearn-color-fitted-level-3: cornflowerblue;\n",
              "\n",
              "  /* Specific color for light theme */\n",
              "  --sklearn-color-text-on-default-background: var(--sg-text-color, var(--theme-code-foreground, var(--jp-content-font-color1, black)));\n",
              "  --sklearn-color-background: var(--sg-background-color, var(--theme-background, var(--jp-layout-color0, white)));\n",
              "  --sklearn-color-border-box: var(--sg-text-color, var(--theme-code-foreground, var(--jp-content-font-color1, black)));\n",
              "  --sklearn-color-icon: #696969;\n",
              "\n",
              "  @media (prefers-color-scheme: dark) {\n",
              "    /* Redefinition of color scheme for dark theme */\n",
              "    --sklearn-color-text-on-default-background: var(--sg-text-color, var(--theme-code-foreground, var(--jp-content-font-color1, white)));\n",
              "    --sklearn-color-background: var(--sg-background-color, var(--theme-background, var(--jp-layout-color0, #111)));\n",
              "    --sklearn-color-border-box: var(--sg-text-color, var(--theme-code-foreground, var(--jp-content-font-color1, white)));\n",
              "    --sklearn-color-icon: #878787;\n",
              "  }\n",
              "}\n",
              "\n",
              "#sk-container-id-1 {\n",
              "  color: var(--sklearn-color-text);\n",
              "}\n",
              "\n",
              "#sk-container-id-1 pre {\n",
              "  padding: 0;\n",
              "}\n",
              "\n",
              "#sk-container-id-1 input.sk-hidden--visually {\n",
              "  border: 0;\n",
              "  clip: rect(1px 1px 1px 1px);\n",
              "  clip: rect(1px, 1px, 1px, 1px);\n",
              "  height: 1px;\n",
              "  margin: -1px;\n",
              "  overflow: hidden;\n",
              "  padding: 0;\n",
              "  position: absolute;\n",
              "  width: 1px;\n",
              "}\n",
              "\n",
              "#sk-container-id-1 div.sk-dashed-wrapped {\n",
              "  border: 1px dashed var(--sklearn-color-line);\n",
              "  margin: 0 0.4em 0.5em 0.4em;\n",
              "  box-sizing: border-box;\n",
              "  padding-bottom: 0.4em;\n",
              "  background-color: var(--sklearn-color-background);\n",
              "}\n",
              "\n",
              "#sk-container-id-1 div.sk-container {\n",
              "  /* jupyter's `normalize.less` sets `[hidden] { display: none; }`\n",
              "     but bootstrap.min.css set `[hidden] { display: none !important; }`\n",
              "     so we also need the `!important` here to be able to override the\n",
              "     default hidden behavior on the sphinx rendered scikit-learn.org.\n",
              "     See: https://github.com/scikit-learn/scikit-learn/issues/21755 */\n",
              "  display: inline-block !important;\n",
              "  position: relative;\n",
              "}\n",
              "\n",
              "#sk-container-id-1 div.sk-text-repr-fallback {\n",
              "  display: none;\n",
              "}\n",
              "\n",
              "div.sk-parallel-item,\n",
              "div.sk-serial,\n",
              "div.sk-item {\n",
              "  /* draw centered vertical line to link estimators */\n",
              "  background-image: linear-gradient(var(--sklearn-color-text-on-default-background), var(--sklearn-color-text-on-default-background));\n",
              "  background-size: 2px 100%;\n",
              "  background-repeat: no-repeat;\n",
              "  background-position: center center;\n",
              "}\n",
              "\n",
              "/* Parallel-specific style estimator block */\n",
              "\n",
              "#sk-container-id-1 div.sk-parallel-item::after {\n",
              "  content: \"\";\n",
              "  width: 100%;\n",
              "  border-bottom: 2px solid var(--sklearn-color-text-on-default-background);\n",
              "  flex-grow: 1;\n",
              "}\n",
              "\n",
              "#sk-container-id-1 div.sk-parallel {\n",
              "  display: flex;\n",
              "  align-items: stretch;\n",
              "  justify-content: center;\n",
              "  background-color: var(--sklearn-color-background);\n",
              "  position: relative;\n",
              "}\n",
              "\n",
              "#sk-container-id-1 div.sk-parallel-item {\n",
              "  display: flex;\n",
              "  flex-direction: column;\n",
              "}\n",
              "\n",
              "#sk-container-id-1 div.sk-parallel-item:first-child::after {\n",
              "  align-self: flex-end;\n",
              "  width: 50%;\n",
              "}\n",
              "\n",
              "#sk-container-id-1 div.sk-parallel-item:last-child::after {\n",
              "  align-self: flex-start;\n",
              "  width: 50%;\n",
              "}\n",
              "\n",
              "#sk-container-id-1 div.sk-parallel-item:only-child::after {\n",
              "  width: 0;\n",
              "}\n",
              "\n",
              "/* Serial-specific style estimator block */\n",
              "\n",
              "#sk-container-id-1 div.sk-serial {\n",
              "  display: flex;\n",
              "  flex-direction: column;\n",
              "  align-items: center;\n",
              "  background-color: var(--sklearn-color-background);\n",
              "  padding-right: 1em;\n",
              "  padding-left: 1em;\n",
              "}\n",
              "\n",
              "\n",
              "/* Toggleable style: style used for estimator/Pipeline/ColumnTransformer box that is\n",
              "clickable and can be expanded/collapsed.\n",
              "- Pipeline and ColumnTransformer use this feature and define the default style\n",
              "- Estimators will overwrite some part of the style using the `sk-estimator` class\n",
              "*/\n",
              "\n",
              "/* Pipeline and ColumnTransformer style (default) */\n",
              "\n",
              "#sk-container-id-1 div.sk-toggleable {\n",
              "  /* Default theme specific background. It is overwritten whether we have a\n",
              "  specific estimator or a Pipeline/ColumnTransformer */\n",
              "  background-color: var(--sklearn-color-background);\n",
              "}\n",
              "\n",
              "/* Toggleable label */\n",
              "#sk-container-id-1 label.sk-toggleable__label {\n",
              "  cursor: pointer;\n",
              "  display: flex;\n",
              "  width: 100%;\n",
              "  margin-bottom: 0;\n",
              "  padding: 0.5em;\n",
              "  box-sizing: border-box;\n",
              "  text-align: center;\n",
              "  align-items: start;\n",
              "  justify-content: space-between;\n",
              "  gap: 0.5em;\n",
              "}\n",
              "\n",
              "#sk-container-id-1 label.sk-toggleable__label .caption {\n",
              "  font-size: 0.6rem;\n",
              "  font-weight: lighter;\n",
              "  color: var(--sklearn-color-text-muted);\n",
              "}\n",
              "\n",
              "#sk-container-id-1 label.sk-toggleable__label-arrow:before {\n",
              "  /* Arrow on the left of the label */\n",
              "  content: \"▸\";\n",
              "  float: left;\n",
              "  margin-right: 0.25em;\n",
              "  color: var(--sklearn-color-icon);\n",
              "}\n",
              "\n",
              "#sk-container-id-1 label.sk-toggleable__label-arrow:hover:before {\n",
              "  color: var(--sklearn-color-text);\n",
              "}\n",
              "\n",
              "/* Toggleable content - dropdown */\n",
              "\n",
              "#sk-container-id-1 div.sk-toggleable__content {\n",
              "  max-height: 0;\n",
              "  max-width: 0;\n",
              "  overflow: hidden;\n",
              "  text-align: left;\n",
              "  /* unfitted */\n",
              "  background-color: var(--sklearn-color-unfitted-level-0);\n",
              "}\n",
              "\n",
              "#sk-container-id-1 div.sk-toggleable__content.fitted {\n",
              "  /* fitted */\n",
              "  background-color: var(--sklearn-color-fitted-level-0);\n",
              "}\n",
              "\n",
              "#sk-container-id-1 div.sk-toggleable__content pre {\n",
              "  margin: 0.2em;\n",
              "  border-radius: 0.25em;\n",
              "  color: var(--sklearn-color-text);\n",
              "  /* unfitted */\n",
              "  background-color: var(--sklearn-color-unfitted-level-0);\n",
              "}\n",
              "\n",
              "#sk-container-id-1 div.sk-toggleable__content.fitted pre {\n",
              "  /* unfitted */\n",
              "  background-color: var(--sklearn-color-fitted-level-0);\n",
              "}\n",
              "\n",
              "#sk-container-id-1 input.sk-toggleable__control:checked~div.sk-toggleable__content {\n",
              "  /* Expand drop-down */\n",
              "  max-height: 200px;\n",
              "  max-width: 100%;\n",
              "  overflow: auto;\n",
              "}\n",
              "\n",
              "#sk-container-id-1 input.sk-toggleable__control:checked~label.sk-toggleable__label-arrow:before {\n",
              "  content: \"▾\";\n",
              "}\n",
              "\n",
              "/* Pipeline/ColumnTransformer-specific style */\n",
              "\n",
              "#sk-container-id-1 div.sk-label input.sk-toggleable__control:checked~label.sk-toggleable__label {\n",
              "  color: var(--sklearn-color-text);\n",
              "  background-color: var(--sklearn-color-unfitted-level-2);\n",
              "}\n",
              "\n",
              "#sk-container-id-1 div.sk-label.fitted input.sk-toggleable__control:checked~label.sk-toggleable__label {\n",
              "  background-color: var(--sklearn-color-fitted-level-2);\n",
              "}\n",
              "\n",
              "/* Estimator-specific style */\n",
              "\n",
              "/* Colorize estimator box */\n",
              "#sk-container-id-1 div.sk-estimator input.sk-toggleable__control:checked~label.sk-toggleable__label {\n",
              "  /* unfitted */\n",
              "  background-color: var(--sklearn-color-unfitted-level-2);\n",
              "}\n",
              "\n",
              "#sk-container-id-1 div.sk-estimator.fitted input.sk-toggleable__control:checked~label.sk-toggleable__label {\n",
              "  /* fitted */\n",
              "  background-color: var(--sklearn-color-fitted-level-2);\n",
              "}\n",
              "\n",
              "#sk-container-id-1 div.sk-label label.sk-toggleable__label,\n",
              "#sk-container-id-1 div.sk-label label {\n",
              "  /* The background is the default theme color */\n",
              "  color: var(--sklearn-color-text-on-default-background);\n",
              "}\n",
              "\n",
              "/* On hover, darken the color of the background */\n",
              "#sk-container-id-1 div.sk-label:hover label.sk-toggleable__label {\n",
              "  color: var(--sklearn-color-text);\n",
              "  background-color: var(--sklearn-color-unfitted-level-2);\n",
              "}\n",
              "\n",
              "/* Label box, darken color on hover, fitted */\n",
              "#sk-container-id-1 div.sk-label.fitted:hover label.sk-toggleable__label.fitted {\n",
              "  color: var(--sklearn-color-text);\n",
              "  background-color: var(--sklearn-color-fitted-level-2);\n",
              "}\n",
              "\n",
              "/* Estimator label */\n",
              "\n",
              "#sk-container-id-1 div.sk-label label {\n",
              "  font-family: monospace;\n",
              "  font-weight: bold;\n",
              "  display: inline-block;\n",
              "  line-height: 1.2em;\n",
              "}\n",
              "\n",
              "#sk-container-id-1 div.sk-label-container {\n",
              "  text-align: center;\n",
              "}\n",
              "\n",
              "/* Estimator-specific */\n",
              "#sk-container-id-1 div.sk-estimator {\n",
              "  font-family: monospace;\n",
              "  border: 1px dotted var(--sklearn-color-border-box);\n",
              "  border-radius: 0.25em;\n",
              "  box-sizing: border-box;\n",
              "  margin-bottom: 0.5em;\n",
              "  /* unfitted */\n",
              "  background-color: var(--sklearn-color-unfitted-level-0);\n",
              "}\n",
              "\n",
              "#sk-container-id-1 div.sk-estimator.fitted {\n",
              "  /* fitted */\n",
              "  background-color: var(--sklearn-color-fitted-level-0);\n",
              "}\n",
              "\n",
              "/* on hover */\n",
              "#sk-container-id-1 div.sk-estimator:hover {\n",
              "  /* unfitted */\n",
              "  background-color: var(--sklearn-color-unfitted-level-2);\n",
              "}\n",
              "\n",
              "#sk-container-id-1 div.sk-estimator.fitted:hover {\n",
              "  /* fitted */\n",
              "  background-color: var(--sklearn-color-fitted-level-2);\n",
              "}\n",
              "\n",
              "/* Specification for estimator info (e.g. \"i\" and \"?\") */\n",
              "\n",
              "/* Common style for \"i\" and \"?\" */\n",
              "\n",
              ".sk-estimator-doc-link,\n",
              "a:link.sk-estimator-doc-link,\n",
              "a:visited.sk-estimator-doc-link {\n",
              "  float: right;\n",
              "  font-size: smaller;\n",
              "  line-height: 1em;\n",
              "  font-family: monospace;\n",
              "  background-color: var(--sklearn-color-background);\n",
              "  border-radius: 1em;\n",
              "  height: 1em;\n",
              "  width: 1em;\n",
              "  text-decoration: none !important;\n",
              "  margin-left: 0.5em;\n",
              "  text-align: center;\n",
              "  /* unfitted */\n",
              "  border: var(--sklearn-color-unfitted-level-1) 1pt solid;\n",
              "  color: var(--sklearn-color-unfitted-level-1);\n",
              "}\n",
              "\n",
              ".sk-estimator-doc-link.fitted,\n",
              "a:link.sk-estimator-doc-link.fitted,\n",
              "a:visited.sk-estimator-doc-link.fitted {\n",
              "  /* fitted */\n",
              "  border: var(--sklearn-color-fitted-level-1) 1pt solid;\n",
              "  color: var(--sklearn-color-fitted-level-1);\n",
              "}\n",
              "\n",
              "/* On hover */\n",
              "div.sk-estimator:hover .sk-estimator-doc-link:hover,\n",
              ".sk-estimator-doc-link:hover,\n",
              "div.sk-label-container:hover .sk-estimator-doc-link:hover,\n",
              ".sk-estimator-doc-link:hover {\n",
              "  /* unfitted */\n",
              "  background-color: var(--sklearn-color-unfitted-level-3);\n",
              "  color: var(--sklearn-color-background);\n",
              "  text-decoration: none;\n",
              "}\n",
              "\n",
              "div.sk-estimator.fitted:hover .sk-estimator-doc-link.fitted:hover,\n",
              ".sk-estimator-doc-link.fitted:hover,\n",
              "div.sk-label-container:hover .sk-estimator-doc-link.fitted:hover,\n",
              ".sk-estimator-doc-link.fitted:hover {\n",
              "  /* fitted */\n",
              "  background-color: var(--sklearn-color-fitted-level-3);\n",
              "  color: var(--sklearn-color-background);\n",
              "  text-decoration: none;\n",
              "}\n",
              "\n",
              "/* Span, style for the box shown on hovering the info icon */\n",
              ".sk-estimator-doc-link span {\n",
              "  display: none;\n",
              "  z-index: 9999;\n",
              "  position: relative;\n",
              "  font-weight: normal;\n",
              "  right: .2ex;\n",
              "  padding: .5ex;\n",
              "  margin: .5ex;\n",
              "  width: min-content;\n",
              "  min-width: 20ex;\n",
              "  max-width: 50ex;\n",
              "  color: var(--sklearn-color-text);\n",
              "  box-shadow: 2pt 2pt 4pt #999;\n",
              "  /* unfitted */\n",
              "  background: var(--sklearn-color-unfitted-level-0);\n",
              "  border: .5pt solid var(--sklearn-color-unfitted-level-3);\n",
              "}\n",
              "\n",
              ".sk-estimator-doc-link.fitted span {\n",
              "  /* fitted */\n",
              "  background: var(--sklearn-color-fitted-level-0);\n",
              "  border: var(--sklearn-color-fitted-level-3);\n",
              "}\n",
              "\n",
              ".sk-estimator-doc-link:hover span {\n",
              "  display: block;\n",
              "}\n",
              "\n",
              "/* \"?\"-specific style due to the `<a>` HTML tag */\n",
              "\n",
              "#sk-container-id-1 a.estimator_doc_link {\n",
              "  float: right;\n",
              "  font-size: 1rem;\n",
              "  line-height: 1em;\n",
              "  font-family: monospace;\n",
              "  background-color: var(--sklearn-color-background);\n",
              "  border-radius: 1rem;\n",
              "  height: 1rem;\n",
              "  width: 1rem;\n",
              "  text-decoration: none;\n",
              "  /* unfitted */\n",
              "  color: var(--sklearn-color-unfitted-level-1);\n",
              "  border: var(--sklearn-color-unfitted-level-1) 1pt solid;\n",
              "}\n",
              "\n",
              "#sk-container-id-1 a.estimator_doc_link.fitted {\n",
              "  /* fitted */\n",
              "  border: var(--sklearn-color-fitted-level-1) 1pt solid;\n",
              "  color: var(--sklearn-color-fitted-level-1);\n",
              "}\n",
              "\n",
              "/* On hover */\n",
              "#sk-container-id-1 a.estimator_doc_link:hover {\n",
              "  /* unfitted */\n",
              "  background-color: var(--sklearn-color-unfitted-level-3);\n",
              "  color: var(--sklearn-color-background);\n",
              "  text-decoration: none;\n",
              "}\n",
              "\n",
              "#sk-container-id-1 a.estimator_doc_link.fitted:hover {\n",
              "  /* fitted */\n",
              "  background-color: var(--sklearn-color-fitted-level-3);\n",
              "}\n",
              "</style><div id=\"sk-container-id-1\" class=\"sk-top-container\"><div class=\"sk-text-repr-fallback\"><pre>MultinomialNB()</pre><b>In a Jupyter environment, please rerun this cell to show the HTML representation or trust the notebook. <br />On GitHub, the HTML representation is unable to render, please try loading this page with nbviewer.org.</b></div><div class=\"sk-container\" hidden><div class=\"sk-item\"><div class=\"sk-estimator fitted sk-toggleable\"><input class=\"sk-toggleable__control sk-hidden--visually\" id=\"sk-estimator-id-1\" type=\"checkbox\" checked><label for=\"sk-estimator-id-1\" class=\"sk-toggleable__label fitted sk-toggleable__label-arrow\"><div><div>MultinomialNB</div></div><div><a class=\"sk-estimator-doc-link fitted\" rel=\"noreferrer\" target=\"_blank\" href=\"https://scikit-learn.org/1.6/modules/generated/sklearn.naive_bayes.MultinomialNB.html\">?<span>Documentation for MultinomialNB</span></a><span class=\"sk-estimator-doc-link fitted\">i<span>Fitted</span></span></div></label><div class=\"sk-toggleable__content fitted\"><pre>MultinomialNB()</pre></div> </div></div></div></div>"
            ],
            "text/plain": [
              "MultinomialNB()"
            ]
          },
          "execution_count": 15,
          "metadata": {},
          "output_type": "execute_result"
        }
      ],
      "source": [
        "#for countvectorizer\n",
        "from sklearn.naive_bayes import MultinomialNB\n",
        "def countV():\n",
        "    model = MultinomialNB()\n",
        "    model.fit(train_xs, train_ys)\n",
        "\n",
        "    train_ys_pred = model.predict(train_xs)\n",
        "    test_ys_pred = model.predict(test_xs)\n",
        "\n",
        "\n",
        "    print(\"Test accuracy:\", accuracy_score(test_ys, test_ys_pred))\n",
        "\n",
        "    #classification report\n",
        "    print(classification_report(test_ys, test_ys_pred))\n",
        "    return model\n",
        "\n",
        "countV()"
      ]
    },
    {
      "cell_type": "code",
      "execution_count": 16,
      "id": "188e1f53",
      "metadata": {},
      "outputs": [
        {
          "name": "stdout",
          "output_type": "stream",
          "text": [
            "Test accuracy: 0.9851312875672256\n",
            "              precision    recall  f1-score   support\n",
            "\n",
            "           0       0.95      0.96      0.96       433\n",
            "           1       0.91      1.00      0.95       879\n",
            "           2       1.00      0.99      0.99     11887\n",
            "           3       0.92      0.96      0.94       853\n",
            "           4       0.96      0.98      0.97      1117\n",
            "           5       1.00      0.94      0.97       636\n",
            "\n",
            "    accuracy                           0.99     15805\n",
            "   macro avg       0.96      0.97      0.96     15805\n",
            "weighted avg       0.99      0.99      0.99     15805\n",
            "\n"
          ]
        },
        {
          "data": {
            "text/html": [
              "<style>#sk-container-id-2 {\n",
              "  /* Definition of color scheme common for light and dark mode */\n",
              "  --sklearn-color-text: #000;\n",
              "  --sklearn-color-text-muted: #666;\n",
              "  --sklearn-color-line: gray;\n",
              "  /* Definition of color scheme for unfitted estimators */\n",
              "  --sklearn-color-unfitted-level-0: #fff5e6;\n",
              "  --sklearn-color-unfitted-level-1: #f6e4d2;\n",
              "  --sklearn-color-unfitted-level-2: #ffe0b3;\n",
              "  --sklearn-color-unfitted-level-3: chocolate;\n",
              "  /* Definition of color scheme for fitted estimators */\n",
              "  --sklearn-color-fitted-level-0: #f0f8ff;\n",
              "  --sklearn-color-fitted-level-1: #d4ebff;\n",
              "  --sklearn-color-fitted-level-2: #b3dbfd;\n",
              "  --sklearn-color-fitted-level-3: cornflowerblue;\n",
              "\n",
              "  /* Specific color for light theme */\n",
              "  --sklearn-color-text-on-default-background: var(--sg-text-color, var(--theme-code-foreground, var(--jp-content-font-color1, black)));\n",
              "  --sklearn-color-background: var(--sg-background-color, var(--theme-background, var(--jp-layout-color0, white)));\n",
              "  --sklearn-color-border-box: var(--sg-text-color, var(--theme-code-foreground, var(--jp-content-font-color1, black)));\n",
              "  --sklearn-color-icon: #696969;\n",
              "\n",
              "  @media (prefers-color-scheme: dark) {\n",
              "    /* Redefinition of color scheme for dark theme */\n",
              "    --sklearn-color-text-on-default-background: var(--sg-text-color, var(--theme-code-foreground, var(--jp-content-font-color1, white)));\n",
              "    --sklearn-color-background: var(--sg-background-color, var(--theme-background, var(--jp-layout-color0, #111)));\n",
              "    --sklearn-color-border-box: var(--sg-text-color, var(--theme-code-foreground, var(--jp-content-font-color1, white)));\n",
              "    --sklearn-color-icon: #878787;\n",
              "  }\n",
              "}\n",
              "\n",
              "#sk-container-id-2 {\n",
              "  color: var(--sklearn-color-text);\n",
              "}\n",
              "\n",
              "#sk-container-id-2 pre {\n",
              "  padding: 0;\n",
              "}\n",
              "\n",
              "#sk-container-id-2 input.sk-hidden--visually {\n",
              "  border: 0;\n",
              "  clip: rect(1px 1px 1px 1px);\n",
              "  clip: rect(1px, 1px, 1px, 1px);\n",
              "  height: 1px;\n",
              "  margin: -1px;\n",
              "  overflow: hidden;\n",
              "  padding: 0;\n",
              "  position: absolute;\n",
              "  width: 1px;\n",
              "}\n",
              "\n",
              "#sk-container-id-2 div.sk-dashed-wrapped {\n",
              "  border: 1px dashed var(--sklearn-color-line);\n",
              "  margin: 0 0.4em 0.5em 0.4em;\n",
              "  box-sizing: border-box;\n",
              "  padding-bottom: 0.4em;\n",
              "  background-color: var(--sklearn-color-background);\n",
              "}\n",
              "\n",
              "#sk-container-id-2 div.sk-container {\n",
              "  /* jupyter's `normalize.less` sets `[hidden] { display: none; }`\n",
              "     but bootstrap.min.css set `[hidden] { display: none !important; }`\n",
              "     so we also need the `!important` here to be able to override the\n",
              "     default hidden behavior on the sphinx rendered scikit-learn.org.\n",
              "     See: https://github.com/scikit-learn/scikit-learn/issues/21755 */\n",
              "  display: inline-block !important;\n",
              "  position: relative;\n",
              "}\n",
              "\n",
              "#sk-container-id-2 div.sk-text-repr-fallback {\n",
              "  display: none;\n",
              "}\n",
              "\n",
              "div.sk-parallel-item,\n",
              "div.sk-serial,\n",
              "div.sk-item {\n",
              "  /* draw centered vertical line to link estimators */\n",
              "  background-image: linear-gradient(var(--sklearn-color-text-on-default-background), var(--sklearn-color-text-on-default-background));\n",
              "  background-size: 2px 100%;\n",
              "  background-repeat: no-repeat;\n",
              "  background-position: center center;\n",
              "}\n",
              "\n",
              "/* Parallel-specific style estimator block */\n",
              "\n",
              "#sk-container-id-2 div.sk-parallel-item::after {\n",
              "  content: \"\";\n",
              "  width: 100%;\n",
              "  border-bottom: 2px solid var(--sklearn-color-text-on-default-background);\n",
              "  flex-grow: 1;\n",
              "}\n",
              "\n",
              "#sk-container-id-2 div.sk-parallel {\n",
              "  display: flex;\n",
              "  align-items: stretch;\n",
              "  justify-content: center;\n",
              "  background-color: var(--sklearn-color-background);\n",
              "  position: relative;\n",
              "}\n",
              "\n",
              "#sk-container-id-2 div.sk-parallel-item {\n",
              "  display: flex;\n",
              "  flex-direction: column;\n",
              "}\n",
              "\n",
              "#sk-container-id-2 div.sk-parallel-item:first-child::after {\n",
              "  align-self: flex-end;\n",
              "  width: 50%;\n",
              "}\n",
              "\n",
              "#sk-container-id-2 div.sk-parallel-item:last-child::after {\n",
              "  align-self: flex-start;\n",
              "  width: 50%;\n",
              "}\n",
              "\n",
              "#sk-container-id-2 div.sk-parallel-item:only-child::after {\n",
              "  width: 0;\n",
              "}\n",
              "\n",
              "/* Serial-specific style estimator block */\n",
              "\n",
              "#sk-container-id-2 div.sk-serial {\n",
              "  display: flex;\n",
              "  flex-direction: column;\n",
              "  align-items: center;\n",
              "  background-color: var(--sklearn-color-background);\n",
              "  padding-right: 1em;\n",
              "  padding-left: 1em;\n",
              "}\n",
              "\n",
              "\n",
              "/* Toggleable style: style used for estimator/Pipeline/ColumnTransformer box that is\n",
              "clickable and can be expanded/collapsed.\n",
              "- Pipeline and ColumnTransformer use this feature and define the default style\n",
              "- Estimators will overwrite some part of the style using the `sk-estimator` class\n",
              "*/\n",
              "\n",
              "/* Pipeline and ColumnTransformer style (default) */\n",
              "\n",
              "#sk-container-id-2 div.sk-toggleable {\n",
              "  /* Default theme specific background. It is overwritten whether we have a\n",
              "  specific estimator or a Pipeline/ColumnTransformer */\n",
              "  background-color: var(--sklearn-color-background);\n",
              "}\n",
              "\n",
              "/* Toggleable label */\n",
              "#sk-container-id-2 label.sk-toggleable__label {\n",
              "  cursor: pointer;\n",
              "  display: flex;\n",
              "  width: 100%;\n",
              "  margin-bottom: 0;\n",
              "  padding: 0.5em;\n",
              "  box-sizing: border-box;\n",
              "  text-align: center;\n",
              "  align-items: start;\n",
              "  justify-content: space-between;\n",
              "  gap: 0.5em;\n",
              "}\n",
              "\n",
              "#sk-container-id-2 label.sk-toggleable__label .caption {\n",
              "  font-size: 0.6rem;\n",
              "  font-weight: lighter;\n",
              "  color: var(--sklearn-color-text-muted);\n",
              "}\n",
              "\n",
              "#sk-container-id-2 label.sk-toggleable__label-arrow:before {\n",
              "  /* Arrow on the left of the label */\n",
              "  content: \"▸\";\n",
              "  float: left;\n",
              "  margin-right: 0.25em;\n",
              "  color: var(--sklearn-color-icon);\n",
              "}\n",
              "\n",
              "#sk-container-id-2 label.sk-toggleable__label-arrow:hover:before {\n",
              "  color: var(--sklearn-color-text);\n",
              "}\n",
              "\n",
              "/* Toggleable content - dropdown */\n",
              "\n",
              "#sk-container-id-2 div.sk-toggleable__content {\n",
              "  max-height: 0;\n",
              "  max-width: 0;\n",
              "  overflow: hidden;\n",
              "  text-align: left;\n",
              "  /* unfitted */\n",
              "  background-color: var(--sklearn-color-unfitted-level-0);\n",
              "}\n",
              "\n",
              "#sk-container-id-2 div.sk-toggleable__content.fitted {\n",
              "  /* fitted */\n",
              "  background-color: var(--sklearn-color-fitted-level-0);\n",
              "}\n",
              "\n",
              "#sk-container-id-2 div.sk-toggleable__content pre {\n",
              "  margin: 0.2em;\n",
              "  border-radius: 0.25em;\n",
              "  color: var(--sklearn-color-text);\n",
              "  /* unfitted */\n",
              "  background-color: var(--sklearn-color-unfitted-level-0);\n",
              "}\n",
              "\n",
              "#sk-container-id-2 div.sk-toggleable__content.fitted pre {\n",
              "  /* unfitted */\n",
              "  background-color: var(--sklearn-color-fitted-level-0);\n",
              "}\n",
              "\n",
              "#sk-container-id-2 input.sk-toggleable__control:checked~div.sk-toggleable__content {\n",
              "  /* Expand drop-down */\n",
              "  max-height: 200px;\n",
              "  max-width: 100%;\n",
              "  overflow: auto;\n",
              "}\n",
              "\n",
              "#sk-container-id-2 input.sk-toggleable__control:checked~label.sk-toggleable__label-arrow:before {\n",
              "  content: \"▾\";\n",
              "}\n",
              "\n",
              "/* Pipeline/ColumnTransformer-specific style */\n",
              "\n",
              "#sk-container-id-2 div.sk-label input.sk-toggleable__control:checked~label.sk-toggleable__label {\n",
              "  color: var(--sklearn-color-text);\n",
              "  background-color: var(--sklearn-color-unfitted-level-2);\n",
              "}\n",
              "\n",
              "#sk-container-id-2 div.sk-label.fitted input.sk-toggleable__control:checked~label.sk-toggleable__label {\n",
              "  background-color: var(--sklearn-color-fitted-level-2);\n",
              "}\n",
              "\n",
              "/* Estimator-specific style */\n",
              "\n",
              "/* Colorize estimator box */\n",
              "#sk-container-id-2 div.sk-estimator input.sk-toggleable__control:checked~label.sk-toggleable__label {\n",
              "  /* unfitted */\n",
              "  background-color: var(--sklearn-color-unfitted-level-2);\n",
              "}\n",
              "\n",
              "#sk-container-id-2 div.sk-estimator.fitted input.sk-toggleable__control:checked~label.sk-toggleable__label {\n",
              "  /* fitted */\n",
              "  background-color: var(--sklearn-color-fitted-level-2);\n",
              "}\n",
              "\n",
              "#sk-container-id-2 div.sk-label label.sk-toggleable__label,\n",
              "#sk-container-id-2 div.sk-label label {\n",
              "  /* The background is the default theme color */\n",
              "  color: var(--sklearn-color-text-on-default-background);\n",
              "}\n",
              "\n",
              "/* On hover, darken the color of the background */\n",
              "#sk-container-id-2 div.sk-label:hover label.sk-toggleable__label {\n",
              "  color: var(--sklearn-color-text);\n",
              "  background-color: var(--sklearn-color-unfitted-level-2);\n",
              "}\n",
              "\n",
              "/* Label box, darken color on hover, fitted */\n",
              "#sk-container-id-2 div.sk-label.fitted:hover label.sk-toggleable__label.fitted {\n",
              "  color: var(--sklearn-color-text);\n",
              "  background-color: var(--sklearn-color-fitted-level-2);\n",
              "}\n",
              "\n",
              "/* Estimator label */\n",
              "\n",
              "#sk-container-id-2 div.sk-label label {\n",
              "  font-family: monospace;\n",
              "  font-weight: bold;\n",
              "  display: inline-block;\n",
              "  line-height: 1.2em;\n",
              "}\n",
              "\n",
              "#sk-container-id-2 div.sk-label-container {\n",
              "  text-align: center;\n",
              "}\n",
              "\n",
              "/* Estimator-specific */\n",
              "#sk-container-id-2 div.sk-estimator {\n",
              "  font-family: monospace;\n",
              "  border: 1px dotted var(--sklearn-color-border-box);\n",
              "  border-radius: 0.25em;\n",
              "  box-sizing: border-box;\n",
              "  margin-bottom: 0.5em;\n",
              "  /* unfitted */\n",
              "  background-color: var(--sklearn-color-unfitted-level-0);\n",
              "}\n",
              "\n",
              "#sk-container-id-2 div.sk-estimator.fitted {\n",
              "  /* fitted */\n",
              "  background-color: var(--sklearn-color-fitted-level-0);\n",
              "}\n",
              "\n",
              "/* on hover */\n",
              "#sk-container-id-2 div.sk-estimator:hover {\n",
              "  /* unfitted */\n",
              "  background-color: var(--sklearn-color-unfitted-level-2);\n",
              "}\n",
              "\n",
              "#sk-container-id-2 div.sk-estimator.fitted:hover {\n",
              "  /* fitted */\n",
              "  background-color: var(--sklearn-color-fitted-level-2);\n",
              "}\n",
              "\n",
              "/* Specification for estimator info (e.g. \"i\" and \"?\") */\n",
              "\n",
              "/* Common style for \"i\" and \"?\" */\n",
              "\n",
              ".sk-estimator-doc-link,\n",
              "a:link.sk-estimator-doc-link,\n",
              "a:visited.sk-estimator-doc-link {\n",
              "  float: right;\n",
              "  font-size: smaller;\n",
              "  line-height: 1em;\n",
              "  font-family: monospace;\n",
              "  background-color: var(--sklearn-color-background);\n",
              "  border-radius: 1em;\n",
              "  height: 1em;\n",
              "  width: 1em;\n",
              "  text-decoration: none !important;\n",
              "  margin-left: 0.5em;\n",
              "  text-align: center;\n",
              "  /* unfitted */\n",
              "  border: var(--sklearn-color-unfitted-level-1) 1pt solid;\n",
              "  color: var(--sklearn-color-unfitted-level-1);\n",
              "}\n",
              "\n",
              ".sk-estimator-doc-link.fitted,\n",
              "a:link.sk-estimator-doc-link.fitted,\n",
              "a:visited.sk-estimator-doc-link.fitted {\n",
              "  /* fitted */\n",
              "  border: var(--sklearn-color-fitted-level-1) 1pt solid;\n",
              "  color: var(--sklearn-color-fitted-level-1);\n",
              "}\n",
              "\n",
              "/* On hover */\n",
              "div.sk-estimator:hover .sk-estimator-doc-link:hover,\n",
              ".sk-estimator-doc-link:hover,\n",
              "div.sk-label-container:hover .sk-estimator-doc-link:hover,\n",
              ".sk-estimator-doc-link:hover {\n",
              "  /* unfitted */\n",
              "  background-color: var(--sklearn-color-unfitted-level-3);\n",
              "  color: var(--sklearn-color-background);\n",
              "  text-decoration: none;\n",
              "}\n",
              "\n",
              "div.sk-estimator.fitted:hover .sk-estimator-doc-link.fitted:hover,\n",
              ".sk-estimator-doc-link.fitted:hover,\n",
              "div.sk-label-container:hover .sk-estimator-doc-link.fitted:hover,\n",
              ".sk-estimator-doc-link.fitted:hover {\n",
              "  /* fitted */\n",
              "  background-color: var(--sklearn-color-fitted-level-3);\n",
              "  color: var(--sklearn-color-background);\n",
              "  text-decoration: none;\n",
              "}\n",
              "\n",
              "/* Span, style for the box shown on hovering the info icon */\n",
              ".sk-estimator-doc-link span {\n",
              "  display: none;\n",
              "  z-index: 9999;\n",
              "  position: relative;\n",
              "  font-weight: normal;\n",
              "  right: .2ex;\n",
              "  padding: .5ex;\n",
              "  margin: .5ex;\n",
              "  width: min-content;\n",
              "  min-width: 20ex;\n",
              "  max-width: 50ex;\n",
              "  color: var(--sklearn-color-text);\n",
              "  box-shadow: 2pt 2pt 4pt #999;\n",
              "  /* unfitted */\n",
              "  background: var(--sklearn-color-unfitted-level-0);\n",
              "  border: .5pt solid var(--sklearn-color-unfitted-level-3);\n",
              "}\n",
              "\n",
              ".sk-estimator-doc-link.fitted span {\n",
              "  /* fitted */\n",
              "  background: var(--sklearn-color-fitted-level-0);\n",
              "  border: var(--sklearn-color-fitted-level-3);\n",
              "}\n",
              "\n",
              ".sk-estimator-doc-link:hover span {\n",
              "  display: block;\n",
              "}\n",
              "\n",
              "/* \"?\"-specific style due to the `<a>` HTML tag */\n",
              "\n",
              "#sk-container-id-2 a.estimator_doc_link {\n",
              "  float: right;\n",
              "  font-size: 1rem;\n",
              "  line-height: 1em;\n",
              "  font-family: monospace;\n",
              "  background-color: var(--sklearn-color-background);\n",
              "  border-radius: 1rem;\n",
              "  height: 1rem;\n",
              "  width: 1rem;\n",
              "  text-decoration: none;\n",
              "  /* unfitted */\n",
              "  color: var(--sklearn-color-unfitted-level-1);\n",
              "  border: var(--sklearn-color-unfitted-level-1) 1pt solid;\n",
              "}\n",
              "\n",
              "#sk-container-id-2 a.estimator_doc_link.fitted {\n",
              "  /* fitted */\n",
              "  border: var(--sklearn-color-fitted-level-1) 1pt solid;\n",
              "  color: var(--sklearn-color-fitted-level-1);\n",
              "}\n",
              "\n",
              "/* On hover */\n",
              "#sk-container-id-2 a.estimator_doc_link:hover {\n",
              "  /* unfitted */\n",
              "  background-color: var(--sklearn-color-unfitted-level-3);\n",
              "  color: var(--sklearn-color-background);\n",
              "  text-decoration: none;\n",
              "}\n",
              "\n",
              "#sk-container-id-2 a.estimator_doc_link.fitted:hover {\n",
              "  /* fitted */\n",
              "  background-color: var(--sklearn-color-fitted-level-3);\n",
              "}\n",
              "</style><div id=\"sk-container-id-2\" class=\"sk-top-container\"><div class=\"sk-text-repr-fallback\"><pre>MultinomialNB()</pre><b>In a Jupyter environment, please rerun this cell to show the HTML representation or trust the notebook. <br />On GitHub, the HTML representation is unable to render, please try loading this page with nbviewer.org.</b></div><div class=\"sk-container\" hidden><div class=\"sk-item\"><div class=\"sk-estimator fitted sk-toggleable\"><input class=\"sk-toggleable__control sk-hidden--visually\" id=\"sk-estimator-id-2\" type=\"checkbox\" checked><label for=\"sk-estimator-id-2\" class=\"sk-toggleable__label fitted sk-toggleable__label-arrow\"><div><div>MultinomialNB</div></div><div><a class=\"sk-estimator-doc-link fitted\" rel=\"noreferrer\" target=\"_blank\" href=\"https://scikit-learn.org/1.6/modules/generated/sklearn.naive_bayes.MultinomialNB.html\">?<span>Documentation for MultinomialNB</span></a><span class=\"sk-estimator-doc-link fitted\">i<span>Fitted</span></span></div></label><div class=\"sk-toggleable__content fitted\"><pre>MultinomialNB()</pre></div> </div></div></div></div>"
            ],
            "text/plain": [
              "MultinomialNB()"
            ]
          },
          "execution_count": 16,
          "metadata": {},
          "output_type": "execute_result"
        }
      ],
      "source": [
        "# for tfidf\n",
        "td_idf = TfidfVectorizer(max_features=5000)\n",
        "xs_2 = td_idf.fit_transform(all_df.text).toarray()\n",
        "train_xs_2, test_xs_2, train_ys_2, test_ys_2 = train_test_split(\n",
        "        xs_2, ys, test_size=0.3, random_state=0, shuffle=True\n",
        "    )\n",
        "def tfidf():\n",
        "   \n",
        "    model_1 = MultinomialNB()\n",
        "    model_1.fit(train_xs_2, train_ys_2)\n",
        "\n",
        "\n",
        "    test_ys_pred_2 = model_1.predict(test_xs_2)\n",
        "\n",
        "\n",
        "    print(\"Test accuracy:\", accuracy_score(test_ys_2, test_ys_pred_2))\n",
        "\n",
        "    #classification report\n",
        "    print(classification_report(test_ys_2, test_ys_pred_2))\n",
        "    return model_1\n",
        "\n",
        "tfidf()"
      ]
    },
    {
      "cell_type": "code",
      "execution_count": 17,
      "id": "8c2dd7bf",
      "metadata": {},
      "outputs": [
        {
          "name": "stdout",
          "output_type": "stream",
          "text": [
            "Test accuracy: 0.9681113571654539\n",
            "              precision    recall  f1-score   support\n",
            "\n",
            "           0       0.89      0.99      0.94       433\n",
            "           1       0.81      1.00      0.89       879\n",
            "           2       1.00      0.97      0.98     11887\n",
            "           3       0.84      0.96      0.89       853\n",
            "           4       0.93      0.98      0.95      1117\n",
            "           5       1.00      0.91      0.95       636\n",
            "\n",
            "    accuracy                           0.97     15805\n",
            "   macro avg       0.91      0.97      0.93     15805\n",
            "weighted avg       0.97      0.97      0.97     15805\n",
            "\n",
            "Test accuracy: 0.9851312875672256\n",
            "              precision    recall  f1-score   support\n",
            "\n",
            "           0       0.95      0.96      0.96       433\n",
            "           1       0.91      1.00      0.95       879\n",
            "           2       1.00      0.99      0.99     11887\n",
            "           3       0.92      0.96      0.94       853\n",
            "           4       0.96      0.98      0.97      1117\n",
            "           5       1.00      0.94      0.97       636\n",
            "\n",
            "    accuracy                           0.99     15805\n",
            "   macro avg       0.96      0.97      0.96     15805\n",
            "weighted avg       0.99      0.99      0.99     15805\n",
            "\n",
            "CountVectorizer accuracy: 0.9681113571654539\n",
            "TfidfVectorizer accuracy: 0.9851312875672256\n"
          ]
        },
        {
          "data": {
            "text/plain": [
              "(MultinomialNB(), MultinomialNB())"
            ]
          },
          "execution_count": 17,
          "metadata": {},
          "output_type": "execute_result"
        }
      ],
      "source": [
        "#comparing the results\n",
        "\n",
        "def compare():\n",
        "    model = countV()\n",
        "    model_1 = tfidf()\n",
        "    print(\"CountVectorizer accuracy:\", accuracy_score(test_ys, model.predict(test_xs)))\n",
        "    print(\"TfidfVectorizer accuracy:\", accuracy_score(test_ys_2, model_1.predict(test_xs_2)))\n",
        "    \n",
        "    return model, model_1\n",
        "\n",
        "compare()"
      ]
    },
    {
      "cell_type": "markdown",
      "id": "s7D8W5OWsLTs",
      "metadata": {
        "id": "s7D8W5OWsLTs"
      },
      "source": [
        "#### 🚧 TODO: `MultinomialNB` vs. `GaussianNB` classifiers\n",
        "\n",
        "*   Use both to classify the data\n",
        "\n",
        "*   Compare their results in terms of accuracy and show their `classification_report`"
      ]
    },
    {
      "cell_type": "code",
      "execution_count": 1,
      "id": "f389d383",
      "metadata": {},
      "outputs": [
        {
          "ename": "NameError",
          "evalue": "name 'train_xs_2' is not defined",
          "output_type": "error",
          "traceback": [
            "\u001b[0;31m---------------------------------------------------------------------------\u001b[0m",
            "\u001b[0;31mNameError\u001b[0m                                 Traceback (most recent call last)",
            "Cell \u001b[0;32mIn[1], line 4\u001b[0m\n\u001b[1;32m      2\u001b[0m \u001b[38;5;28;01mfrom\u001b[39;00m \u001b[38;5;21;01msklearn\u001b[39;00m\u001b[38;5;21;01m.\u001b[39;00m\u001b[38;5;21;01mnaive_bayes\u001b[39;00m \u001b[38;5;28;01mimport\u001b[39;00m GaussianNB\n\u001b[1;32m      3\u001b[0m model_2 \u001b[38;5;241m=\u001b[39m GaussianNB()\n\u001b[0;32m----> 4\u001b[0m model_2\u001b[38;5;241m.\u001b[39mfit(\u001b[43mtrain_xs_2\u001b[49m, train_ys_2)\n\u001b[1;32m      6\u001b[0m train_ys_pred_2 \u001b[38;5;241m=\u001b[39m model_2\u001b[38;5;241m.\u001b[39mpredict(train_xs_2)   \n\u001b[1;32m      7\u001b[0m test_ys_pred_2 \u001b[38;5;241m=\u001b[39m model_2\u001b[38;5;241m.\u001b[39mpredict(test_xs_2)\n",
            "\u001b[0;31mNameError\u001b[0m: name 'train_xs_2' is not defined"
          ]
        }
      ],
      "source": [
        "#multinomialNB vs GaussianNB\n",
        "from sklearn.naive_bayes import GaussianNB\n",
        "model_2 = GaussianNB()\n",
        "model_2.fit(train_xs_2, train_ys_2)\n",
        "\n",
        "  \n",
        "test_ys_pred_2 = model_2.predict(test_xs_2)\n",
        "\n",
        "\n",
        "\n",
        "print(\"Test accuracy:\", accuracy_score(test_ys_2, test_ys_pred_2))\n",
        "\n",
        "#classification report\n",
        "print(classification_report(test_ys_2, test_ys_pred_2))\n",
        "\n",
        "\n"
      ]
    },
    {
      "cell_type": "markdown",
      "id": "5d928327-bf23-4554-8f5f-aaee99c74697",
      "metadata": {
        "id": "5d928327-bf23-4554-8f5f-aaee99c74697"
      },
      "source": [
        "#### 🚧 TODO: Confusion matrix for the MultinomialNB classifier\n",
        "\n",
        "- Translate this result into a sentence"
      ]
    },
    {
      "cell_type": "code",
      "execution_count": 17,
      "id": "7cb1876d",
      "metadata": {},
      "outputs": [
        {
          "data": {
            "image/png": "[encoded data removed]",
            "text/plain": [
              "<Figure size 640x480 with 2 Axes>"
            ]
          },
          "metadata": {
            "image/png": {
              "height": 439,
              "width": 539
            }
          },
          "output_type": "display_data"
        }
      ],
      "source": [
        "#confusion matrix on MultinomialNB\n",
        "\n",
        "cm = confusion_matrix(test_ys, test_ys_pred)\n",
        "disp = ConfusionMatrixDisplay(confusion_matrix=cm, display_labels=range(6))\n",
        "\n",
        "disp.plot()\n",
        "plt.show()\n"
      ]
    },
    {
      "cell_type": "markdown",
      "id": "53799ca9-8e2d-40b3-8922-6ad4e2ebc0d7",
      "metadata": {
        "id": "53799ca9-8e2d-40b3-8922-6ad4e2ebc0d7"
      },
      "source": [
        "#### 🚧 TODO: add the `stop_words=\"english\"` option to the `tf_idf` vectorizer\n",
        "\n",
        "*   Compare the size of the `sparse_xs` for the 2 conditions (stop words included or not)\n",
        "\n",
        "*   Retrain with the new vectorizer and the MultinomialNB classifier\n",
        "\n",
        "*   Compare the results with the previous vectorizer"
      ]
    },
    {
      "cell_type": "code",
      "execution_count": null,
      "id": "f07787af",
      "metadata": {},
      "outputs": [],
      "source": []
    },
    {
      "cell_type": "markdown",
      "id": "152ccd31",
      "metadata": {
        "id": "152ccd31"
      },
      "source": [
        "#### 🚧 TODO: PCA\n",
        "\n",
        "*   Apply PCA to project on 2 dimensions to all vectors (train and test) and plot them\n",
        "\n",
        "*   Compare the plot with the previous vectorizer with, and without the `stop_words=\"english\"` option\n",
        "\n",
        "*   Explain the difference breafly"
      ]
    },
    {
      "cell_type": "markdown",
      "id": "MoNbueUOsLTt",
      "metadata": {
        "id": "MoNbueUOsLTt"
      },
      "source": [
        "#### 🚧 TODO: Train on PCA\n",
        "\n",
        "*   Apply PCA to project on 2 dimensions to all vectors (train and test), fitting the PCA only on the training set\n",
        "\n",
        "*   Train the MultinomialNB and the GaussianNB classifiers on the PCA vectors\n",
        "\n",
        "    Does it work with both classifiers? Explain breafly.\n",
        "\n",
        "*   Compare the results with the vectorizer with, and without, the `stop_words=\"english\"` option\n",
        "\n",
        "*   Analyze the difference breafly"
      ]
    },
    {
      "cell_type": "markdown",
      "id": "b9dada15-875a-4aea-8d31-01011ef6662b",
      "metadata": {
        "id": "b9dada15-875a-4aea-8d31-01011ef6662b"
      },
      "source": [
        "#### 🚧 TODO: PCA with more dimensions\n",
        "\n",
        "*   Try to find the best number of dimensions for the PCA with [`GridSearchCV`](sklearn.model_selection.GridSearchCV)\n",
        "\n",
        "*   Use pipeline to combine the PCA and the classifier and other potential preprocessing steps\n",
        "\n",
        "*   Boxplot accuracyies for different PCA dimension values using [`GridSearchCV`](sklearn.model_selection.GridSearchCV)"
      ]
    },
    {
      "cell_type": "markdown",
      "id": "4874beb9-408c-467f-9a26-9c6e39c4c678",
      "metadata": {
        "id": "4874beb9-408c-467f-9a26-9c6e39c4c678"
      },
      "source": [
        "## N-grams features for text classification\n",
        "\n",
        "*   We will use bigram in this section"
      ]
    },
    {
      "cell_type": "code",
      "execution_count": 18,
      "id": "06ffb414-1b14-439f-9f1b-857fc3736956",
      "metadata": {
        "id": "06ffb414-1b14-439f-9f1b-857fc3736956"
      },
      "outputs": [],
      "source": [
        "vectorizer_2g = CountVectorizer(\n",
        "    analyzer=\"word\", ngram_range=(2, 2), max_features=5000,\n",
        ")\n",
        "x2gs = vectorizer_2g.fit_transform(all_df.text).toarray()"
      ]
    },
    {
      "cell_type": "code",
      "execution_count": 19,
      "id": "4ad83427-2c40-448c-a68b-2e67af18c439",
      "metadata": {
        "id": "4ad83427-2c40-448c-a68b-2e67af18c439"
      },
      "outputs": [
        {
          "data": {
            "text/html": [
              "<div>\n",
              "<style scoped>\n",
              "    .dataframe tbody tr th:only-of-type {\n",
              "        vertical-align: middle;\n",
              "    }\n",
              "\n",
              "    .dataframe tbody tr th {\n",
              "        vertical-align: top;\n",
              "    }\n",
              "\n",
              "    .dataframe thead th {\n",
              "        text-align: right;\n",
              "    }\n",
              "</style>\n",
              "<table border=\"1\" class=\"dataframe\">\n",
              "  <thead>\n",
              "    <tr style=\"text-align: right;\">\n",
              "      <th></th>\n",
              "      <th>bigrams</th>\n",
              "    </tr>\n",
              "  </thead>\n",
              "  <tbody>\n",
              "    <tr>\n",
              "      <th>0</th>\n",
              "      <td>00 00</td>\n",
              "    </tr>\n",
              "    <tr>\n",
              "      <th>1</th>\n",
              "      <td>000 000</td>\n",
              "    </tr>\n",
              "    <tr>\n",
              "      <th>2</th>\n",
              "      <td>000000 000000</td>\n",
              "    </tr>\n",
              "    <tr>\n",
              "      <th>3</th>\n",
              "      <td>001 001</td>\n",
              "    </tr>\n",
              "    <tr>\n",
              "      <th>4</th>\n",
              "      <td>01 01</td>\n",
              "    </tr>\n",
              "    <tr>\n",
              "      <th>...</th>\n",
              "      <td>...</td>\n",
              "    </tr>\n",
              "    <tr>\n",
              "      <th>4995</th>\n",
              "      <td>your system</td>\n",
              "    </tr>\n",
              "    <tr>\n",
              "      <th>4996</th>\n",
              "      <td>your time</td>\n",
              "    </tr>\n",
              "    <tr>\n",
              "      <th>4997</th>\n",
              "      <td>your urdf</td>\n",
              "    </tr>\n",
              "    <tr>\n",
              "      <th>4998</th>\n",
              "      <td>your workspace</td>\n",
              "    </tr>\n",
              "    <tr>\n",
              "      <th>4999</th>\n",
              "      <td>youtube com</td>\n",
              "    </tr>\n",
              "  </tbody>\n",
              "</table>\n",
              "<p>5000 rows × 1 columns</p>\n",
              "</div>"
            ],
            "text/plain": [
              "             bigrams\n",
              "0              00 00\n",
              "1            000 000\n",
              "2      000000 000000\n",
              "3            001 001\n",
              "4              01 01\n",
              "...              ...\n",
              "4995     your system\n",
              "4996       your time\n",
              "4997       your urdf\n",
              "4998  your workspace\n",
              "4999     youtube com\n",
              "\n",
              "[5000 rows x 1 columns]"
            ]
          },
          "execution_count": 19,
          "metadata": {},
          "output_type": "execute_result"
        }
      ],
      "source": [
        "pd.DataFrame(vectorizer_2g.get_feature_names_out(), columns=[\"bigrams\"])"
      ]
    },
    {
      "cell_type": "code",
      "execution_count": 20,
      "id": "4ffc1cd1-36a2-41e4-9d6a-9e51a550e6a3",
      "metadata": {
        "id": "4ffc1cd1-36a2-41e4-9d6a-9e51a550e6a3"
      },
      "outputs": [
        {
          "name": "stdout",
          "output_type": "stream",
          "text": [
            "(36877, 5000)\n",
            "(15805, 5000)\n"
          ]
        }
      ],
      "source": [
        "train_xs, test_xs, train_ys, test_ys = train_test_split(\n",
        "    x2gs, ys, test_size=0.3, random_state=0, shuffle=True\n",
        ")\n",
        "print(train_xs.shape)\n",
        "print(test_xs.shape)"
      ]
    },
    {
      "cell_type": "markdown",
      "id": "096i7uxxsLTt",
      "metadata": {
        "id": "096i7uxxsLTt"
      },
      "source": [
        "#### 🚧 TODO: Train classification models on n-grams\n",
        "\n",
        "*   Train on the `CountVectorizer` with bigrams using the `MultinomialNB` classifier\n",
        "\n",
        "*   Compare the results with the previous \"raw\" `CountVectorizer`"
      ]
    },
    {
      "cell_type": "markdown",
      "id": "8c71a315-40b6-4739-bb20-a6a6a3724c7c",
      "metadata": {
        "id": "8c71a315-40b6-4739-bb20-a6a6a3724c7c"
      },
      "source": [
        "---\n",
        "## Building an n-gram generator\n",
        "___"
      ]
    },
    {
      "cell_type": "markdown",
      "id": "549f111f-d2ae-4ee4-bb99-689b2dd8ec68",
      "metadata": {
        "id": "549f111f-d2ae-4ee4-bb99-689b2dd8ec68"
      },
      "source": [
        "### Let's build character trigrams first"
      ]
    },
    {
      "cell_type": "code",
      "execution_count": 21,
      "id": "7042cea6-8886-4bc1-b824-75a84de70b75",
      "metadata": {
        "id": "7042cea6-8886-4bc1-b824-75a84de70b75"
      },
      "outputs": [
        {
          "data": {
            "text/plain": [
              "['Thi', 'his', 'is ', 's i', ' is', 'is ', 's c', ' co', 'coo', 'ool', 'ol!']"
            ]
          },
          "execution_count": 21,
          "metadata": {},
          "output_type": "execute_result"
        }
      ],
      "source": [
        "LINE = \"This is cool!\"\n",
        "N = 3\n",
        "[LINE[i : i + N] for i in range(len(LINE) - N + 1)]"
      ]
    },
    {
      "cell_type": "code",
      "execution_count": 22,
      "id": "2c7d6a3b-6032-498d-8317-2091c402c5e5",
      "metadata": {
        "id": "2c7d6a3b-6032-498d-8317-2091c402c5e5"
      },
      "outputs": [
        {
          "data": {
            "text/plain": [
              "[('T', 'h', 'i'),\n",
              " ('h', 'i', 's'),\n",
              " ('i', 's', ' '),\n",
              " ('s', ' ', 'i'),\n",
              " (' ', 'i', 's'),\n",
              " ('i', 's', ' '),\n",
              " ('s', ' ', 'c'),\n",
              " (' ', 'c', 'o'),\n",
              " ('c', 'o', 'o'),\n",
              " ('o', 'o', 'l'),\n",
              " ('o', 'l', '!')]"
            ]
          },
          "execution_count": 22,
          "metadata": {},
          "output_type": "execute_result"
        }
      ],
      "source": [
        "[tuple(LINE[i : i + N]) for i in range(len(LINE) - N + 1)]"
      ]
    },
    {
      "cell_type": "code",
      "execution_count": 23,
      "id": "61fa1606-e4c9-448d-b6a8-bf6d06339a71",
      "metadata": {
        "id": "61fa1606-e4c9-448d-b6a8-bf6d06339a71"
      },
      "outputs": [
        {
          "data": {
            "text/plain": [
              "['this is cool!', 'this is amazing!', 'but why is this his fish?']"
            ]
          },
          "execution_count": 23,
          "metadata": {},
          "output_type": "execute_result"
        }
      ],
      "source": [
        "LINES = \"\"\"This is cool!\n",
        "This is amazing!\n",
        "But why is this his fish?\"\"\"\n",
        "\n",
        "re.split(\"\\n+\", LINES.lower())"
      ]
    },
    {
      "cell_type": "code",
      "execution_count": 24,
      "id": "83ac1be4-fb00-451a-a4ec-e402e6e7fd97",
      "metadata": {
        "id": "83ac1be4-fb00-451a-a4ec-e402e6e7fd97"
      },
      "outputs": [
        {
          "data": {
            "text/html": [
              "<div>\n",
              "<style scoped>\n",
              "    .dataframe tbody tr th:only-of-type {\n",
              "        vertical-align: middle;\n",
              "    }\n",
              "\n",
              "    .dataframe tbody tr th {\n",
              "        vertical-align: top;\n",
              "    }\n",
              "\n",
              "    .dataframe thead th {\n",
              "        text-align: right;\n",
              "    }\n",
              "</style>\n",
              "<table border=\"1\" class=\"dataframe\">\n",
              "  <thead>\n",
              "    <tr style=\"text-align: right;\">\n",
              "      <th></th>\n",
              "      <th>freq</th>\n",
              "    </tr>\n",
              "  </thead>\n",
              "  <tbody>\n",
              "    <tr>\n",
              "      <th>is</th>\n",
              "      <td>7</td>\n",
              "    </tr>\n",
              "    <tr>\n",
              "      <th>his</th>\n",
              "      <td>4</td>\n",
              "    </tr>\n",
              "    <tr>\n",
              "      <th>thi</th>\n",
              "      <td>3</td>\n",
              "    </tr>\n",
              "    <tr>\n",
              "      <th>is</th>\n",
              "      <td>3</td>\n",
              "    </tr>\n",
              "    <tr>\n",
              "      <th>s i</th>\n",
              "      <td>2</td>\n",
              "    </tr>\n",
              "    <tr>\n",
              "      <th>s c</th>\n",
              "      <td>1</td>\n",
              "    </tr>\n",
              "    <tr>\n",
              "      <th>co</th>\n",
              "      <td>1</td>\n",
              "    </tr>\n",
              "  </tbody>\n",
              "</table>\n",
              "</div>"
            ],
            "text/plain": [
              "     freq\n",
              "is      7\n",
              "his     4\n",
              "thi     3\n",
              " is     3\n",
              "s i     2\n",
              "s c     1\n",
              " co     1"
            ]
          },
          "execution_count": 24,
          "metadata": {},
          "output_type": "execute_result"
        }
      ],
      "source": [
        "ngrams = collections.Counter()\n",
        "\n",
        "for line in re.split(\"\\n+\", LINES.lower()):\n",
        "    ngrams.update([line[i : i + N] for i in range(len(line) - N + 1)])\n",
        "\n",
        "nc_df = pd.DataFrame.from_dict(\n",
        "    ngrams, orient=\"index\", columns=[\"freq\"]\n",
        ").sort_values(\"freq\", ascending=False)\n",
        "\n",
        "nc_df.head(7)"
      ]
    },
    {
      "cell_type": "markdown",
      "id": "ca11b3ea-589e-4f1b-840f-67c386a0edb3",
      "metadata": {
        "id": "ca11b3ea-589e-4f1b-840f-67c386a0edb3"
      },
      "source": [
        "### Back to our corpora"
      ]
    },
    {
      "cell_type": "markdown",
      "id": "Yyyqnj7XsLTy",
      "metadata": {
        "id": "Yyyqnj7XsLTy"
      },
      "source": [
        "#### 🚧 TODO: Build an ngram generator for the `\"woodworking\"` corpus\n",
        "\n",
        "*   Tokenize the corpus first with `nltk.word_tokenize`\n",
        "\n",
        "*   Normalize the tokens by simply simply lowercasing them\n",
        "\n",
        "*   Give the tokens frequency to the ngram generator"
      ]
    },
    {
      "cell_type": "code",
      "execution_count": 25,
      "id": "8b4d2af9-32ff-4e0b-abe1-ad70b29c5685",
      "metadata": {
        "id": "8b4d2af9-32ff-4e0b-abe1-ad70b29c5685"
      },
      "outputs": [
        {
          "data": {
            "text/html": [
              "<div>\n",
              "<style scoped>\n",
              "    .dataframe tbody tr th:only-of-type {\n",
              "        vertical-align: middle;\n",
              "    }\n",
              "\n",
              "    .dataframe tbody tr th {\n",
              "        vertical-align: top;\n",
              "    }\n",
              "\n",
              "    .dataframe thead th {\n",
              "        text-align: right;\n",
              "    }\n",
              "</style>\n",
              "<table border=\"1\" class=\"dataframe\">\n",
              "  <thead>\n",
              "    <tr style=\"text-align: right;\">\n",
              "      <th></th>\n",
              "      <th>text</th>\n",
              "      <th>category</th>\n",
              "      <th>cat_id</th>\n",
              "    </tr>\n",
              "    <tr>\n",
              "      <th>id</th>\n",
              "      <th></th>\n",
              "      <th></th>\n",
              "      <th></th>\n",
              "    </tr>\n",
              "  </thead>\n",
              "  <tbody>\n",
              "    <tr>\n",
              "      <th>woodworking.stackexchange_0000005606</th>\n",
              "      <td>Q:\\n\\nHow to cut and join \"wedges\" of plywood ...</td>\n",
              "      <td>woodworking</td>\n",
              "      <td>1</td>\n",
              "    </tr>\n",
              "    <tr>\n",
              "      <th>woodworking.stackexchange_0000000346</th>\n",
              "      <td>Q:\\n\\nHow can I tell if my green wood is dry e...</td>\n",
              "      <td>woodworking</td>\n",
              "      <td>1</td>\n",
              "    </tr>\n",
              "    <tr>\n",
              "      <th>woodworking.stackexchange_0000006451</th>\n",
              "      <td>Q:\\n\\nWalnut drawer sides: Is it wise to glue-...</td>\n",
              "      <td>woodworking</td>\n",
              "      <td>1</td>\n",
              "    </tr>\n",
              "    <tr>\n",
              "      <th>woodworking.stackexchange_0000009881</th>\n",
              "      <td>Q:\\n\\nCan I remove existing wood finishes usin...</td>\n",
              "      <td>woodworking</td>\n",
              "      <td>1</td>\n",
              "    </tr>\n",
              "    <tr>\n",
              "      <th>woodworking.stackexchange_0000011386</th>\n",
              "      <td>Q:\\n\\nCan you store a synthetic waterstone in ...</td>\n",
              "      <td>woodworking</td>\n",
              "      <td>1</td>\n",
              "    </tr>\n",
              "  </tbody>\n",
              "</table>\n",
              "</div>"
            ],
            "text/plain": [
              "                                                                                   text  \\\n",
              "id                                                                                        \n",
              "woodworking.stackexchange_0000005606  Q:\\n\\nHow to cut and join \"wedges\" of plywood ...   \n",
              "woodworking.stackexchange_0000000346  Q:\\n\\nHow can I tell if my green wood is dry e...   \n",
              "woodworking.stackexchange_0000006451  Q:\\n\\nWalnut drawer sides: Is it wise to glue-...   \n",
              "woodworking.stackexchange_0000009881  Q:\\n\\nCan I remove existing wood finishes usin...   \n",
              "woodworking.stackexchange_0000011386  Q:\\n\\nCan you store a synthetic waterstone in ...   \n",
              "\n",
              "                                         category  cat_id  \n",
              "id                                                         \n",
              "woodworking.stackexchange_0000005606  woodworking       1  \n",
              "woodworking.stackexchange_0000000346  woodworking       1  \n",
              "woodworking.stackexchange_0000006451  woodworking       1  \n",
              "woodworking.stackexchange_0000009881  woodworking       1  \n",
              "woodworking.stackexchange_0000011386  woodworking       1  "
            ]
          },
          "execution_count": 25,
          "metadata": {},
          "output_type": "execute_result"
        }
      ],
      "source": [
        "wood_df = all_df[all_df.category == \"woodworking\"]\n",
        "wood_df.head()"
      ]
    },
    {
      "cell_type": "code",
      "execution_count": 26,
      "id": "74899092-8c6d-432a-bb04-eaf2c104b2e7",
      "metadata": {
        "id": "74899092-8c6d-432a-bb04-eaf2c104b2e7"
      },
      "outputs": [
        {
          "name": "stdout",
          "output_type": "stream",
          "text": [
            "Q:\n",
            "\n",
            "How to cut and join \"wedges\" of plywood to form a perfect circle\n",
            "\n",
            "My wife wants a new dining room table -- a round one of about 4.5' in diameter.\n",
            "I am constructing it out of rift sawn white oak. I will be using 3/4\" ply for the table top (MDF core) and then laminate bending white oak around the edge (circumference), possibly wi\n"
          ]
        }
      ],
      "source": [
        "wood_txt = wood_df.iloc[0].text\n",
        "print(wood_txt[:333])"
      ]
    },
    {
      "cell_type": "markdown",
      "id": "JWwnwcp1sLTy",
      "metadata": {
        "id": "JWwnwcp1sLTy"
      },
      "source": [
        "#### 🚧 TODO: Text generation with ngrams\n",
        "\n",
        "*   Generate a text of words until a stop word is generated (`.`)\n",
        "\n",
        "*   Assign a probability to each ngrams based on their frequency\n",
        "\n",
        "*   Sample from the ngrams based on their probability\n",
        "\n",
        "*   Try different starting words (use bigrams)\n",
        "\n",
        " *Note:* [`default_rng`](https://numpy.org/doc/stable/reference/random/generator.html#numpy.random.default_rng) is the recommended constructor for random number generation in NumPy."
      ]
    },
    {
      "cell_type": "markdown",
      "id": "ca86525f-c78b-465b-bcc8-7f281bfd6176",
      "metadata": {
        "id": "ca86525f-c78b-465b-bcc8-7f281bfd6176"
      },
      "source": [
        "### TODO (optional): Improve this algorithm\n",
        "\n",
        "- Try to fix some possible issues, by handeling exceptions\n",
        "\n",
        "- Improve the output spacing (no space before comma, etc.) and maybe handle the upper case\n",
        "\n",
        "- Try on a different domain of our corpus"
      ]
    },
    {
      "cell_type": "markdown",
      "id": "1d850e54-f593-4be9-967b-fffd88423ed9",
      "metadata": {
        "id": "1d850e54-f593-4be9-967b-fffd88423ed9"
      },
      "source": [
        "---"
      ]
    }
  ],
  "metadata": {
    "colab": {
      "provenance": []
    },
    "kernelspec": {
      "display_name": "Python 3",
      "language": "python",
      "name": "python3"
    },
    "language_info": {
      "codemirror_mode": {
        "name": "ipython",
        "version": 3
      },
      "file_extension": ".py",
      "mimetype": "text/x-python",
      "name": "python",
      "nbconvert_exporter": "python",
      "pygments_lexer": "ipython3",
      "version": "3.12.1"
    }
  },
  "nbformat": 4,
  "nbformat_minor": 5
}
