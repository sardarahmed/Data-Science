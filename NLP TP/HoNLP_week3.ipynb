{
  "cells": [
    {
      "cell_type": "markdown",
      "id": "f5cb8f6c-94df-4e39-b208-e54edc3a9df6",
      "metadata": {
        "id": "f5cb8f6c-94df-4e39-b208-e54edc3a9df6"
      },
      "source": [
        "# Hands-On NLP — Class 3"
      ]
    },
    {
      "cell_type": "markdown",
      "id": "aaf60f2c",
      "metadata": {
        "id": "aaf60f2c"
      },
      "source": [
        "<span style=\"color:magenta\">Group Names:</span>\n",
        "\n",
        "* Name 1\n",
        "* Name 2\n",
        "* Name 3"
      ]
    },
    {
      "cell_type": "markdown",
      "id": "1e5beddc-b0f9-4cb4-92a7-e1270c541dd0",
      "metadata": {
        "id": "1e5beddc-b0f9-4cb4-92a7-e1270c541dd0"
      },
      "source": [
        "## Outline\n",
        "\n",
        "- Better vectors: Tf-idf\n",
        "\n",
        "- Ngrams\n",
        "\n",
        "- Text generation"
      ]
    },
    {
      "cell_type": "code",
      "execution_count": 1,
      "id": "a6366df5-2396-4222-8760-37060a1dc94c",
      "metadata": {
        "id": "a6366df5-2396-4222-8760-37060a1dc94c"
      },
      "outputs": [],
      "source": [
        "import re\n",
        "import collections\n",
        "from pathlib import Path\n",
        "\n",
        "import matplotlib.pyplot as plt\n",
        "import nltk\n",
        "import numpy as np\n",
        "import pandas as pd\n",
        "import seaborn as sns\n",
        "import sklearn\n",
        "from nltk.tokenize import word_tokenize\n",
        "from sklearn import decomposition, naive_bayes\n",
        "from sklearn.feature_extraction.text import CountVectorizer, TfidfVectorizer\n",
        "from sklearn.metrics import (\n",
        "    ConfusionMatrixDisplay,\n",
        "    accuracy_score,\n",
        "    classification_report,\n",
        "    confusion_matrix,\n",
        ")\n",
        "from sklearn.metrics import precision_recall_fscore_support as score\n",
        "from sklearn.model_selection import train_test_split\n",
        "from tqdm.notebook import tqdm"
      ]
    },
    {
      "cell_type": "code",
      "execution_count": 2,
      "id": "a8c44f31",
      "metadata": {
        "id": "a8c44f31"
      },
      "outputs": [
        {
          "name": "stdout",
          "output_type": "stream",
          "text": [
            "sklearn's version: 1.6.0\n",
            "nltk's version: 3.9.1\n",
            "pandas's version: 2.2.3\n"
          ]
        },
        {
          "name": "stderr",
          "output_type": "stream",
          "text": [
            "[nltk_data] Downloading package punkt to C:\\Users\\Global\n",
            "[nltk_data]     Computers\\AppData\\Roaming\\nltk_data...\n",
            "[nltk_data]   Package punkt is already up-to-date!\n",
            "[nltk_data] Downloading package punkt_tab to C:\\Users\\Global\n",
            "[nltk_data]     Computers\\AppData\\Roaming\\nltk_data...\n",
            "[nltk_data]   Package punkt_tab is already up-to-date!\n"
          ]
        }
      ],
      "source": [
        "tqdm.pandas()\n",
        "\n",
        "nltk.download(\"punkt\")\n",
        "nltk.download(\"punkt_tab\")\n",
        "\n",
        "sns.set_style(\"darkgrid\")\n",
        "sns.set_context(\"notebook\")\n",
        "\n",
        "pd.set_option(\"display.precision\", 4)\n",
        "\n",
        "print(\"sklearn's version:\", sklearn.__version__)    # 1.3.2\n",
        "print(\"nltk's version:\", nltk.__version__)          # 3.8.1\n",
        "print(\"pandas's version:\", pd.__version__)          # 2.1.4"
      ]
    },
    {
      "cell_type": "code",
      "execution_count": 3,
      "id": "2a0b2586-f2bf-49af-bd7b-a24ce918eee1",
      "metadata": {
        "id": "2a0b2586-f2bf-49af-bd7b-a24ce918eee1"
      },
      "outputs": [],
      "source": [
        "%config InlineBackend.figure_format=\"retina\"  # For high DPI display"
      ]
    },
    {
      "cell_type": "markdown",
      "id": "c0cece58",
      "metadata": {
        "id": "c0cece58"
      },
      "source": [
        "## Getting the data"
      ]
    },
    {
      "cell_type": "code",
      "execution_count": null,
      "id": "467e1198-37f5-4bc4-98cc-28fbf0b10c34",
      "metadata": {
        "id": "467e1198-37f5-4bc4-98cc-28fbf0b10c34"
      },
      "outputs": [],
      "source": [
        "#DATA = Path(\"/workspaces/Data-Scientist/NLP TP/texts\")\n",
        "\n",
        "\n",
        "TEXT_P = Path(\"/workspaces/Data-Scientist/NLP TP/texts\")\n",
        "\n",
        "CORPORA = [\n",
        "    \"mythology\",\n",
        "    \"woodworking\",\n",
        "    \"robotics\",\n",
        "    \"hsm\",\n",
        "    \"health\",\n",
        "    \"portuguese\",\n",
        "]\n",
        "\n",
        "EPS = np.finfo(float).eps\n",
        "\n",
        "\n"
      ]
    },
    {
      "cell_type": "code",
      "execution_count": 12,
      "id": "45164744-82eb-44ad-b6d9-1a9da7ff8fd6",
      "metadata": {
        "id": "45164744-82eb-44ad-b6d9-1a9da7ff8fd6"
      },
      "outputs": [
        {
          "data": {
            "application/vnd.jupyter.widget-view+json": {
              "model_id": "46a4dcf3b3794b03a8a1d8a28e39a16c",
              "version_major": 2,
              "version_minor": 0
            },
            "text/plain": [
              "  0%|          | 0/6 [00:00<?, ?it/s]"
            ]
          },
          "metadata": {},
          "output_type": "display_data"
        },
        {
          "name": "stdout",
          "output_type": "stream",
          "text": [
            "mythology\n",
            "woodworking\n",
            "robotics\n"
          ]
        },
        {
          "ename": "KeyboardInterrupt",
          "evalue": "",
          "output_type": "error",
          "traceback": [
            "\u001b[1;31m---------------------------------------------------------------------------\u001b[0m",
            "\u001b[1;31mKeyboardInterrupt\u001b[0m                         Traceback (most recent call last)",
            "Cell \u001b[1;32mIn[12], line 6\u001b[0m\n\u001b[0;32m      4\u001b[0m \u001b[38;5;28mprint\u001b[39m(corpus)\n\u001b[0;32m      5\u001b[0m \u001b[38;5;28;01mfor\u001b[39;00m fp \u001b[38;5;129;01min\u001b[39;00m (TEXT_P \u001b[38;5;241m/\u001b[39m corpus)\u001b[38;5;241m.\u001b[39mglob(\u001b[38;5;124m\"\u001b[39m\u001b[38;5;124m*.txt\u001b[39m\u001b[38;5;124m\"\u001b[39m):\n\u001b[1;32m----> 6\u001b[0m     \u001b[38;5;28;01mwith\u001b[39;00m \u001b[43mfp\u001b[49m\u001b[38;5;241;43m.\u001b[39;49m\u001b[43mopen\u001b[49m\u001b[43m(\u001b[49m\u001b[43mencoding\u001b[49m\u001b[38;5;241;43m=\u001b[39;49m\u001b[38;5;124;43m\"\u001b[39;49m\u001b[38;5;124;43mutf-8\u001b[39;49m\u001b[38;5;124;43m\"\u001b[39;49m\u001b[43m)\u001b[49m \u001b[38;5;28;01mas\u001b[39;00m f:\n\u001b[0;32m      7\u001b[0m         text \u001b[38;5;241m=\u001b[39m f\u001b[38;5;241m.\u001b[39mread()\n\u001b[0;32m      8\u001b[0m     data\u001b[38;5;241m.\u001b[39mappend(\n\u001b[0;32m      9\u001b[0m         {\n\u001b[0;32m     10\u001b[0m             \u001b[38;5;124m\"\u001b[39m\u001b[38;5;124mid\u001b[39m\u001b[38;5;124m\"\u001b[39m: fp\u001b[38;5;241m.\u001b[39mstem,\n\u001b[1;32m   (...)\u001b[0m\n\u001b[0;32m     14\u001b[0m         }\n\u001b[0;32m     15\u001b[0m     )\n",
            "File \u001b[1;32mc:\\Users\\Global Computers\\AppData\\Local\\Programs\\Python\\Python312\\Lib\\pathlib.py:1013\u001b[0m, in \u001b[0;36mPath.open\u001b[1;34m(self, mode, buffering, encoding, errors, newline)\u001b[0m\n\u001b[0;32m   1011\u001b[0m \u001b[38;5;28;01mif\u001b[39;00m \u001b[38;5;124m\"\u001b[39m\u001b[38;5;124mb\u001b[39m\u001b[38;5;124m\"\u001b[39m \u001b[38;5;129;01mnot\u001b[39;00m \u001b[38;5;129;01min\u001b[39;00m mode:\n\u001b[0;32m   1012\u001b[0m     encoding \u001b[38;5;241m=\u001b[39m io\u001b[38;5;241m.\u001b[39mtext_encoding(encoding)\n\u001b[1;32m-> 1013\u001b[0m \u001b[38;5;28;01mreturn\u001b[39;00m \u001b[43mio\u001b[49m\u001b[38;5;241;43m.\u001b[39;49m\u001b[43mopen\u001b[49m\u001b[43m(\u001b[49m\u001b[38;5;28;43mself\u001b[39;49m\u001b[43m,\u001b[49m\u001b[43m \u001b[49m\u001b[43mmode\u001b[49m\u001b[43m,\u001b[49m\u001b[43m \u001b[49m\u001b[43mbuffering\u001b[49m\u001b[43m,\u001b[49m\u001b[43m \u001b[49m\u001b[43mencoding\u001b[49m\u001b[43m,\u001b[49m\u001b[43m \u001b[49m\u001b[43merrors\u001b[49m\u001b[43m,\u001b[49m\u001b[43m \u001b[49m\u001b[43mnewline\u001b[49m\u001b[43m)\u001b[49m\n",
            "File \u001b[1;32m<frozen codecs>:309\u001b[0m, in \u001b[0;36m__init__\u001b[1;34m(self, errors)\u001b[0m\n",
            "\u001b[1;31mKeyboardInterrupt\u001b[0m: "
          ]
        }
      ],
      "source": [
        "data = []\n",
        "\n",
        "for i, corpus in enumerate(tqdm(CORPORA)):\n",
        "    print(corpus)\n",
        "    for fp in (TEXT_P / corpus).glob(\"*.txt\"):\n",
        "        with fp.open() as f:\n",
        "            text = f.read()\n",
        "        data.append(\n",
        "            {\n",
        "                \"id\": fp.stem,\n",
        "                \"text\": text,\n",
        "                \"category\": corpus,\n",
        "                \"cat_id\": i,\n",
        "            }\n",
        "        )"
      ]
    },
    {
      "cell_type": "code",
      "execution_count": 6,
      "id": "6d42f8c4-504f-43c0-b174-5396a852f426",
      "metadata": {
        "id": "6d42f8c4-504f-43c0-b174-5396a852f426"
      },
      "outputs": [
        {
          "ename": "KeyError",
          "evalue": "\"['robotics.stackexchange_0000005103'] not found in axis\"",
          "output_type": "error",
          "traceback": [
            "\u001b[1;31m---------------------------------------------------------------------------\u001b[0m",
            "\u001b[1;31mKeyError\u001b[0m                                  Traceback (most recent call last)",
            "Cell \u001b[1;32mIn[6], line 2\u001b[0m\n\u001b[0;32m      1\u001b[0m all_df \u001b[38;5;241m=\u001b[39m pd\u001b[38;5;241m.\u001b[39mDataFrame\u001b[38;5;241m.\u001b[39mfrom_records(data, index\u001b[38;5;241m=\u001b[39m[\u001b[38;5;124m\"\u001b[39m\u001b[38;5;124mid\u001b[39m\u001b[38;5;124m\"\u001b[39m])\n\u001b[1;32m----> 2\u001b[0m all_df \u001b[38;5;241m=\u001b[39m \u001b[43mall_df\u001b[49m\u001b[38;5;241;43m.\u001b[39;49m\u001b[43mdrop\u001b[49m\u001b[43m(\u001b[49m\u001b[38;5;124;43m\"\u001b[39;49m\u001b[38;5;124;43mrobotics.stackexchange_0000005103\u001b[39;49m\u001b[38;5;124;43m\"\u001b[39;49m\u001b[43m)\u001b[49m\n\u001b[0;32m      3\u001b[0m all_df\n",
            "File \u001b[1;32mc:\\Users\\Global Computers\\AppData\\Local\\Programs\\Python\\Python312\\Lib\\site-packages\\pandas\\core\\frame.py:5581\u001b[0m, in \u001b[0;36mDataFrame.drop\u001b[1;34m(self, labels, axis, index, columns, level, inplace, errors)\u001b[0m\n\u001b[0;32m   5433\u001b[0m \u001b[38;5;28;01mdef\u001b[39;00m \u001b[38;5;21mdrop\u001b[39m(\n\u001b[0;32m   5434\u001b[0m     \u001b[38;5;28mself\u001b[39m,\n\u001b[0;32m   5435\u001b[0m     labels: IndexLabel \u001b[38;5;241m|\u001b[39m \u001b[38;5;28;01mNone\u001b[39;00m \u001b[38;5;241m=\u001b[39m \u001b[38;5;28;01mNone\u001b[39;00m,\n\u001b[1;32m   (...)\u001b[0m\n\u001b[0;32m   5442\u001b[0m     errors: IgnoreRaise \u001b[38;5;241m=\u001b[39m \u001b[38;5;124m\"\u001b[39m\u001b[38;5;124mraise\u001b[39m\u001b[38;5;124m\"\u001b[39m,\n\u001b[0;32m   5443\u001b[0m ) \u001b[38;5;241m-\u001b[39m\u001b[38;5;241m>\u001b[39m DataFrame \u001b[38;5;241m|\u001b[39m \u001b[38;5;28;01mNone\u001b[39;00m:\n\u001b[0;32m   5444\u001b[0m \u001b[38;5;250m    \u001b[39m\u001b[38;5;124;03m\"\"\"\u001b[39;00m\n\u001b[0;32m   5445\u001b[0m \u001b[38;5;124;03m    Drop specified labels from rows or columns.\u001b[39;00m\n\u001b[0;32m   5446\u001b[0m \n\u001b[1;32m   (...)\u001b[0m\n\u001b[0;32m   5579\u001b[0m \u001b[38;5;124;03m            weight  1.0     0.8\u001b[39;00m\n\u001b[0;32m   5580\u001b[0m \u001b[38;5;124;03m    \"\"\"\u001b[39;00m\n\u001b[1;32m-> 5581\u001b[0m     \u001b[38;5;28;01mreturn\u001b[39;00m \u001b[38;5;28;43msuper\u001b[39;49m\u001b[43m(\u001b[49m\u001b[43m)\u001b[49m\u001b[38;5;241;43m.\u001b[39;49m\u001b[43mdrop\u001b[49m\u001b[43m(\u001b[49m\n\u001b[0;32m   5582\u001b[0m \u001b[43m        \u001b[49m\u001b[43mlabels\u001b[49m\u001b[38;5;241;43m=\u001b[39;49m\u001b[43mlabels\u001b[49m\u001b[43m,\u001b[49m\n\u001b[0;32m   5583\u001b[0m \u001b[43m        \u001b[49m\u001b[43maxis\u001b[49m\u001b[38;5;241;43m=\u001b[39;49m\u001b[43maxis\u001b[49m\u001b[43m,\u001b[49m\n\u001b[0;32m   5584\u001b[0m \u001b[43m        \u001b[49m\u001b[43mindex\u001b[49m\u001b[38;5;241;43m=\u001b[39;49m\u001b[43mindex\u001b[49m\u001b[43m,\u001b[49m\n\u001b[0;32m   5585\u001b[0m \u001b[43m        \u001b[49m\u001b[43mcolumns\u001b[49m\u001b[38;5;241;43m=\u001b[39;49m\u001b[43mcolumns\u001b[49m\u001b[43m,\u001b[49m\n\u001b[0;32m   5586\u001b[0m \u001b[43m        \u001b[49m\u001b[43mlevel\u001b[49m\u001b[38;5;241;43m=\u001b[39;49m\u001b[43mlevel\u001b[49m\u001b[43m,\u001b[49m\n\u001b[0;32m   5587\u001b[0m \u001b[43m        \u001b[49m\u001b[43minplace\u001b[49m\u001b[38;5;241;43m=\u001b[39;49m\u001b[43minplace\u001b[49m\u001b[43m,\u001b[49m\n\u001b[0;32m   5588\u001b[0m \u001b[43m        \u001b[49m\u001b[43merrors\u001b[49m\u001b[38;5;241;43m=\u001b[39;49m\u001b[43merrors\u001b[49m\u001b[43m,\u001b[49m\n\u001b[0;32m   5589\u001b[0m \u001b[43m    \u001b[49m\u001b[43m)\u001b[49m\n",
            "File \u001b[1;32mc:\\Users\\Global Computers\\AppData\\Local\\Programs\\Python\\Python312\\Lib\\site-packages\\pandas\\core\\generic.py:4788\u001b[0m, in \u001b[0;36mNDFrame.drop\u001b[1;34m(self, labels, axis, index, columns, level, inplace, errors)\u001b[0m\n\u001b[0;32m   4786\u001b[0m \u001b[38;5;28;01mfor\u001b[39;00m axis, labels \u001b[38;5;129;01min\u001b[39;00m axes\u001b[38;5;241m.\u001b[39mitems():\n\u001b[0;32m   4787\u001b[0m     \u001b[38;5;28;01mif\u001b[39;00m labels \u001b[38;5;129;01mis\u001b[39;00m \u001b[38;5;129;01mnot\u001b[39;00m \u001b[38;5;28;01mNone\u001b[39;00m:\n\u001b[1;32m-> 4788\u001b[0m         obj \u001b[38;5;241m=\u001b[39m \u001b[43mobj\u001b[49m\u001b[38;5;241;43m.\u001b[39;49m\u001b[43m_drop_axis\u001b[49m\u001b[43m(\u001b[49m\u001b[43mlabels\u001b[49m\u001b[43m,\u001b[49m\u001b[43m \u001b[49m\u001b[43maxis\u001b[49m\u001b[43m,\u001b[49m\u001b[43m \u001b[49m\u001b[43mlevel\u001b[49m\u001b[38;5;241;43m=\u001b[39;49m\u001b[43mlevel\u001b[49m\u001b[43m,\u001b[49m\u001b[43m \u001b[49m\u001b[43merrors\u001b[49m\u001b[38;5;241;43m=\u001b[39;49m\u001b[43merrors\u001b[49m\u001b[43m)\u001b[49m\n\u001b[0;32m   4790\u001b[0m \u001b[38;5;28;01mif\u001b[39;00m inplace:\n\u001b[0;32m   4791\u001b[0m     \u001b[38;5;28mself\u001b[39m\u001b[38;5;241m.\u001b[39m_update_inplace(obj)\n",
            "File \u001b[1;32mc:\\Users\\Global Computers\\AppData\\Local\\Programs\\Python\\Python312\\Lib\\site-packages\\pandas\\core\\generic.py:4830\u001b[0m, in \u001b[0;36mNDFrame._drop_axis\u001b[1;34m(self, labels, axis, level, errors, only_slice)\u001b[0m\n\u001b[0;32m   4828\u001b[0m         new_axis \u001b[38;5;241m=\u001b[39m axis\u001b[38;5;241m.\u001b[39mdrop(labels, level\u001b[38;5;241m=\u001b[39mlevel, errors\u001b[38;5;241m=\u001b[39merrors)\n\u001b[0;32m   4829\u001b[0m     \u001b[38;5;28;01melse\u001b[39;00m:\n\u001b[1;32m-> 4830\u001b[0m         new_axis \u001b[38;5;241m=\u001b[39m \u001b[43maxis\u001b[49m\u001b[38;5;241;43m.\u001b[39;49m\u001b[43mdrop\u001b[49m\u001b[43m(\u001b[49m\u001b[43mlabels\u001b[49m\u001b[43m,\u001b[49m\u001b[43m \u001b[49m\u001b[43merrors\u001b[49m\u001b[38;5;241;43m=\u001b[39;49m\u001b[43merrors\u001b[49m\u001b[43m)\u001b[49m\n\u001b[0;32m   4831\u001b[0m     indexer \u001b[38;5;241m=\u001b[39m axis\u001b[38;5;241m.\u001b[39mget_indexer(new_axis)\n\u001b[0;32m   4833\u001b[0m \u001b[38;5;66;03m# Case for non-unique axis\u001b[39;00m\n\u001b[0;32m   4834\u001b[0m \u001b[38;5;28;01melse\u001b[39;00m:\n",
            "File \u001b[1;32mc:\\Users\\Global Computers\\AppData\\Local\\Programs\\Python\\Python312\\Lib\\site-packages\\pandas\\core\\indexes\\base.py:7070\u001b[0m, in \u001b[0;36mIndex.drop\u001b[1;34m(self, labels, errors)\u001b[0m\n\u001b[0;32m   7068\u001b[0m \u001b[38;5;28;01mif\u001b[39;00m mask\u001b[38;5;241m.\u001b[39many():\n\u001b[0;32m   7069\u001b[0m     \u001b[38;5;28;01mif\u001b[39;00m errors \u001b[38;5;241m!=\u001b[39m \u001b[38;5;124m\"\u001b[39m\u001b[38;5;124mignore\u001b[39m\u001b[38;5;124m\"\u001b[39m:\n\u001b[1;32m-> 7070\u001b[0m         \u001b[38;5;28;01mraise\u001b[39;00m \u001b[38;5;167;01mKeyError\u001b[39;00m(\u001b[38;5;124mf\u001b[39m\u001b[38;5;124m\"\u001b[39m\u001b[38;5;132;01m{\u001b[39;00mlabels[mask]\u001b[38;5;241m.\u001b[39mtolist()\u001b[38;5;132;01m}\u001b[39;00m\u001b[38;5;124m not found in axis\u001b[39m\u001b[38;5;124m\"\u001b[39m)\n\u001b[0;32m   7071\u001b[0m     indexer \u001b[38;5;241m=\u001b[39m indexer[\u001b[38;5;241m~\u001b[39mmask]\n\u001b[0;32m   7072\u001b[0m \u001b[38;5;28;01mreturn\u001b[39;00m \u001b[38;5;28mself\u001b[39m\u001b[38;5;241m.\u001b[39mdelete(indexer)\n",
            "\u001b[1;31mKeyError\u001b[0m: \"['robotics.stackexchange_0000005103'] not found in axis\""
          ]
        }
      ],
      "source": [
        "all_df = pd.DataFrame.from_records(data, index=[\"id\"])\n",
        "all_df = all_df.drop(\"robotics.stackexchange_0000005103\")\n",
        "all_df"
      ]
    },
    {
      "cell_type": "markdown",
      "id": "6ea5c0ff-1200-4d45-b7b3-8fded7343f8d",
      "metadata": {
        "id": "6ea5c0ff-1200-4d45-b7b3-8fded7343f8d"
      },
      "source": [
        "---\n",
        "Here the initialization of `all_df` is done and you can jump to your favorite classification\n",
        "___"
      ]
    },
    {
      "cell_type": "code",
      "execution_count": 7,
      "id": "41a2eb62-3309-4636-bca7-8abb87d0a053",
      "metadata": {
        "id": "41a2eb62-3309-4636-bca7-8abb87d0a053"
      },
      "outputs": [
        {
          "data": {
            "image/png": "[encoded data removed]",
            "text/plain": [
              "<Figure size 640x480 with 1 Axes>"
            ]
          },
          "metadata": {
            "image/png": {
              "height": 525,
              "width": 577
            }
          },
          "output_type": "display_data"
        }
      ],
      "source": [
        "all_df.groupby(\"category\").size().plot.bar()\n",
        "plt.grid(axis=\"x\")"
      ]
    },
    {
      "cell_type": "markdown",
      "id": "5ff3abc6-c173-4705-b563-f194f7426990",
      "metadata": {
        "id": "5ff3abc6-c173-4705-b563-f194f7426990"
      },
      "source": [
        "## Vectorize"
      ]
    },
    {
      "cell_type": "code",
      "execution_count": 8,
      "id": "07eb09d9-a25f-4d44-b836-4244a8a2fedc",
      "metadata": {
        "id": "07eb09d9-a25f-4d44-b836-4244a8a2fedc"
      },
      "outputs": [
        {
          "data": {
            "text/html": [
              "<div>\n",
              "<style scoped>\n",
              "    .dataframe tbody tr th:only-of-type {\n",
              "        vertical-align: middle;\n",
              "    }\n",
              "\n",
              "    .dataframe tbody tr th {\n",
              "        vertical-align: top;\n",
              "    }\n",
              "\n",
              "    .dataframe thead th {\n",
              "        text-align: right;\n",
              "    }\n",
              "</style>\n",
              "<table border=\"1\" class=\"dataframe\">\n",
              "  <thead>\n",
              "    <tr style=\"text-align: right;\">\n",
              "      <th></th>\n",
              "      <th>and</th>\n",
              "      <th>document</th>\n",
              "      <th>first</th>\n",
              "      <th>is</th>\n",
              "      <th>one</th>\n",
              "      <th>second</th>\n",
              "      <th>the</th>\n",
              "      <th>third</th>\n",
              "      <th>this</th>\n",
              "    </tr>\n",
              "  </thead>\n",
              "  <tbody>\n",
              "    <tr>\n",
              "      <th>This is the first document.</th>\n",
              "      <td>0</td>\n",
              "      <td>1</td>\n",
              "      <td>1</td>\n",
              "      <td>1</td>\n",
              "      <td>0</td>\n",
              "      <td>0</td>\n",
              "      <td>1</td>\n",
              "      <td>0</td>\n",
              "      <td>1</td>\n",
              "    </tr>\n",
              "    <tr>\n",
              "      <th>This document is the second document.</th>\n",
              "      <td>0</td>\n",
              "      <td>2</td>\n",
              "      <td>0</td>\n",
              "      <td>1</td>\n",
              "      <td>0</td>\n",
              "      <td>1</td>\n",
              "      <td>1</td>\n",
              "      <td>0</td>\n",
              "      <td>1</td>\n",
              "    </tr>\n",
              "    <tr>\n",
              "      <th>And this is the third one.</th>\n",
              "      <td>1</td>\n",
              "      <td>0</td>\n",
              "      <td>0</td>\n",
              "      <td>1</td>\n",
              "      <td>1</td>\n",
              "      <td>0</td>\n",
              "      <td>1</td>\n",
              "      <td>1</td>\n",
              "      <td>1</td>\n",
              "    </tr>\n",
              "    <tr>\n",
              "      <th>Is this the first document?</th>\n",
              "      <td>0</td>\n",
              "      <td>1</td>\n",
              "      <td>1</td>\n",
              "      <td>1</td>\n",
              "      <td>0</td>\n",
              "      <td>0</td>\n",
              "      <td>1</td>\n",
              "      <td>0</td>\n",
              "      <td>1</td>\n",
              "    </tr>\n",
              "  </tbody>\n",
              "</table>\n",
              "</div>"
            ],
            "text/plain": [
              "                                       and  document  first  is  one  second  \\\n",
              "This is the first document.              0         1      1   1    0       0   \n",
              "This document is the second document.    0         2      0   1    0       1   \n",
              "And this is the third one.               1         0      0   1    1       0   \n",
              "Is this the first document?              0         1      1   1    0       0   \n",
              "\n",
              "                                       the  third  this  \n",
              "This is the first document.              1      0     1  \n",
              "This document is the second document.    1      0     1  \n",
              "And this is the third one.               1      1     1  \n",
              "Is this the first document?              1      0     1  "
            ]
          },
          "execution_count": 8,
          "metadata": {},
          "output_type": "execute_result"
        }
      ],
      "source": [
        "corpus = [\n",
        "    \"This is the first document.\",\n",
        "    \"This document is the second document.\",\n",
        "    \"And this is the third one.\",\n",
        "    \"Is this the first document?\",\n",
        "]\n",
        "\n",
        "vectorizer = CountVectorizer()\n",
        "xs = vectorizer.fit_transform(corpus).toarray()\n",
        "\n",
        "cv_df = pd.DataFrame(xs, index=corpus, columns=vectorizer.get_feature_names_out())\n",
        "cv_df"
      ]
    },
    {
      "cell_type": "markdown",
      "id": "9bb0c06d",
      "metadata": {
        "id": "9bb0c06d"
      },
      "source": [
        "### TF-IDF\n",
        "\n",
        "- The counting of words is not the ideal way to represent a document\n",
        "\n",
        "- Instead of counting the number of occurences of a word, we could weight it by the number of documents it appears in\n",
        "\n",
        "- Term Frequency - Inverse Document Frequency"
      ]
    },
    {
      "cell_type": "markdown",
      "id": "4637a874",
      "metadata": {
        "id": "4637a874"
      },
      "source": [
        "#### From [Wikipedia](https://en.wikipedia.org/wiki/Tf-idf):\n",
        "\n",
        "**Term frequency**\n",
        "\n",
        "$$\\operatorname{tf}(t,d) = \\frac{f_{t,d}}{{\\sum_{t' \\in d}{f_{t',d}}}}$$\n",
        "\n",
        "**Inverse document frequency**\n",
        "\n",
        "$$\\operatorname{idf}(t, D) =  - \\log \\frac{|\\{d \\in D: t \\in d\\}|}{N} =\n",
        "    -\\log \\left({\\frac {n_{t}}{N}}\\right) $$\n",
        "\n",
        "N: total number of documents in the corpus $N = {|D|}$\n",
        "\n",
        "**Smoothed IDF:**\n",
        "\n",
        "$$\\operatorname{idf}(t, D) = - \\log \\left( \\frac {1 + n_t} {N}\\right)+ 1$$"
      ]
    },
    {
      "cell_type": "markdown",
      "id": "6b3bc67e",
      "metadata": {
        "id": "6b3bc67e"
      },
      "source": [
        "#### From [scikit-learn documentation](https://scikit-learn.org/stable/modules/feature_extraction.html#tfidf-term-weighting):\n",
        "\n",
        "In `TfidfVectorizer`, the implementation is slightly different:\n",
        "\n",
        "*   For the IDF:\n",
        "\n",
        "    *   Unsmoothed version (`smooth_idf=False`), though a $+1$ is applied to avoid a value of 0 for the IDF:\n",
        "    $$\\operatorname{idf}(t, D) = -\\log \\left({\\frac {n_{t}}{N}}\\right) + 1$$\n",
        "\n",
        "    *   Smoothed version (`smooth_idf=True`):\n",
        "    $$\\operatorname{idf}(t, D) = - \\log \\left( \\frac {1 + n_t} {1 + N}\\right)+ 1$$\n",
        "\n",
        "*   `TFIDF = tf(t, d) * idf(t, D)`\n",
        "\n",
        "*   `tf(t, d)` is the **count** of the term `t` in the document `d`, not the **frequency** (**no division!**)\n",
        "\n",
        "*   Then a global normalization is applied: `TFIDF = TFIDF / norm(TFIDF)`\n",
        "    \n",
        "    (instead of a normalization within `tf` only to obtain a frequency)\n",
        "\n",
        "*   `norm` is the L2 norm by default, but can be changed to L1 or `None`."
      ]
    },
    {
      "cell_type": "markdown",
      "id": "700d233a",
      "metadata": {
        "id": "700d233a"
      },
      "source": [
        "#### 🚧 TODO: Count vs. Freq vectorizers\n",
        "\n",
        "Compare the previous results of the `CountVectorizer` with the `TfidfVectorizer` on the same toy dataset."
      ]
    },
    {
      "cell_type": "code",
      "execution_count": 9,
      "id": "9096c2b1-4a5a-415d-94a3-b282c21c80ed",
      "metadata": {
        "id": "9096c2b1-4a5a-415d-94a3-b282c21c80ed"
      },
      "outputs": [
        {
          "data": {
            "text/html": [
              "<div>\n",
              "<style scoped>\n",
              "    .dataframe tbody tr th:only-of-type {\n",
              "        vertical-align: middle;\n",
              "    }\n",
              "\n",
              "    .dataframe tbody tr th {\n",
              "        vertical-align: top;\n",
              "    }\n",
              "\n",
              "    .dataframe thead th {\n",
              "        text-align: right;\n",
              "    }\n",
              "</style>\n",
              "<table border=\"1\" class=\"dataframe\">\n",
              "  <thead>\n",
              "    <tr style=\"text-align: right;\">\n",
              "      <th></th>\n",
              "      <th>and</th>\n",
              "      <th>document</th>\n",
              "      <th>first</th>\n",
              "      <th>is</th>\n",
              "      <th>one</th>\n",
              "      <th>second</th>\n",
              "      <th>the</th>\n",
              "      <th>third</th>\n",
              "      <th>this</th>\n",
              "    </tr>\n",
              "  </thead>\n",
              "  <tbody>\n",
              "    <tr>\n",
              "      <th>This is the first document.</th>\n",
              "      <td>0.0000</td>\n",
              "      <td>0.4698</td>\n",
              "      <td>0.5803</td>\n",
              "      <td>0.3841</td>\n",
              "      <td>0.0000</td>\n",
              "      <td>0.0000</td>\n",
              "      <td>0.3841</td>\n",
              "      <td>0.0000</td>\n",
              "      <td>0.3841</td>\n",
              "    </tr>\n",
              "    <tr>\n",
              "      <th>This document is the second document.</th>\n",
              "      <td>0.0000</td>\n",
              "      <td>0.6876</td>\n",
              "      <td>0.0000</td>\n",
              "      <td>0.2811</td>\n",
              "      <td>0.0000</td>\n",
              "      <td>0.5386</td>\n",
              "      <td>0.2811</td>\n",
              "      <td>0.0000</td>\n",
              "      <td>0.2811</td>\n",
              "    </tr>\n",
              "    <tr>\n",
              "      <th>And this is the third one.</th>\n",
              "      <td>0.5118</td>\n",
              "      <td>0.0000</td>\n",
              "      <td>0.0000</td>\n",
              "      <td>0.2671</td>\n",
              "      <td>0.5118</td>\n",
              "      <td>0.0000</td>\n",
              "      <td>0.2671</td>\n",
              "      <td>0.5118</td>\n",
              "      <td>0.2671</td>\n",
              "    </tr>\n",
              "    <tr>\n",
              "      <th>Is this the first document?</th>\n",
              "      <td>0.0000</td>\n",
              "      <td>0.4698</td>\n",
              "      <td>0.5803</td>\n",
              "      <td>0.3841</td>\n",
              "      <td>0.0000</td>\n",
              "      <td>0.0000</td>\n",
              "      <td>0.3841</td>\n",
              "      <td>0.0000</td>\n",
              "      <td>0.3841</td>\n",
              "    </tr>\n",
              "  </tbody>\n",
              "</table>\n",
              "</div>"
            ],
            "text/plain": [
              "                                          and  document   first      is  \\\n",
              "This is the first document.            0.0000    0.4698  0.5803  0.3841   \n",
              "This document is the second document.  0.0000    0.6876  0.0000  0.2811   \n",
              "And this is the third one.             0.5118    0.0000  0.0000  0.2671   \n",
              "Is this the first document?            0.0000    0.4698  0.5803  0.3841   \n",
              "\n",
              "                                          one  second     the   third    this  \n",
              "This is the first document.            0.0000  0.0000  0.3841  0.0000  0.3841  \n",
              "This document is the second document.  0.0000  0.5386  0.2811  0.0000  0.2811  \n",
              "And this is the third one.             0.5118  0.0000  0.2671  0.5118  0.2671  \n",
              "Is this the first document?            0.0000  0.0000  0.3841  0.0000  0.3841  "
            ]
          },
          "execution_count": 9,
          "metadata": {},
          "output_type": "execute_result"
        }
      ],
      "source": [
        "vectorizer = TfidfVectorizer()\n",
        "xs = vectorizer.fit_transform(corpus).toarray()\n",
        "tf_idf = pd.DataFrame(xs, index=corpus, columns=vectorizer.get_feature_names_out())\n",
        "tf_idf"
      ]
    },
    {
      "cell_type": "markdown",
      "id": "d5642f69-afc2-437e-b4dc-e78b8f1112a5",
      "metadata": {
        "id": "d5642f69-afc2-437e-b4dc-e78b8f1112a5"
      },
      "source": [
        "### Let's now classify the StackOverflow documents in their respective corpus label\n",
        "\n",
        "*   The complete corpus: `all_df`\n",
        "\n",
        "*   Let's use the different vectorizers for representation"
      ]
    },
    {
      "cell_type": "code",
      "execution_count": 10,
      "id": "04236c43",
      "metadata": {
        "id": "04236c43"
      },
      "outputs": [],
      "source": [
        "ys = all_df.cat_id.values\n"
      ]
    },
    {
      "cell_type": "code",
      "execution_count": 11,
      "id": "a08f9f72-443a-416a-9537-2f000ce5117d",
      "metadata": {
        "id": "a08f9f72-443a-416a-9537-2f000ce5117d"
      },
      "outputs": [],
      "source": [
        "cv = CountVectorizer(max_features=5000)\n",
        "xs = cv.fit_transform(all_df.text).toarray()"
      ]
    },
    {
      "cell_type": "code",
      "execution_count": 12,
      "id": "7977ca29",
      "metadata": {
        "id": "7977ca29"
      },
      "outputs": [
        {
          "name": "stdout",
          "output_type": "stream",
          "text": [
            "xs.shape = (52682, 5000)\n",
            "ys.shape = (52682,)\n"
          ]
        }
      ],
      "source": [
        "print(\"xs.shape =\", xs.shape)\n",
        "print(\"ys.shape =\", ys.shape)"
      ]
    },
    {
      "cell_type": "code",
      "execution_count": 13,
      "id": "c757fdd0-615f-415b-8a59-cc4fbabba1c4",
      "metadata": {
        "id": "c757fdd0-615f-415b-8a59-cc4fbabba1c4"
      },
      "outputs": [
        {
          "name": "stdout",
          "output_type": "stream",
          "text": [
            "(36877, 5000)\n",
            "(15805, 5000)\n"
          ]
        }
      ],
      "source": [
        "train_xs, test_xs, train_ys, test_ys = train_test_split(\n",
        "    xs, ys, test_size=0.3, random_state=0, shuffle=True\n",
        ")\n",
        "print(train_xs.shape)\n",
        "print(test_xs.shape)"
      ]
    },
    {
      "cell_type": "markdown",
      "id": "b1f450b8",
      "metadata": {
        "id": "b1f450b8"
      },
      "source": [
        "#### 🚧 TODO: `CountVectorizer` vs. `TfidfVectorizer` classifiers\n",
        "\n",
        "*   Limit to the 5000 most frequent words to reduce the dimensionality\n",
        "\n",
        "    (the sparse matrix `toarray()` method crashes if no reduction of features is applied)\n",
        "\n",
        "*   Use both to classify the data based on, e.g., the `MultinomialNB` classifier\n",
        "\n",
        "*   Compare their results in terms of accuracy and show their `classification_report`"
      ]
    },
    {
      "cell_type": "code",
      "execution_count": 14,
      "id": "5697698d",
      "metadata": {},
      "outputs": [
        {
          "name": "stdout",
          "output_type": "stream",
          "text": [
            "Test accuracy: 0.9681113571654539\n",
            "              precision    recall  f1-score   support\n",
            "\n",
            "           0       0.89      0.99      0.94       433\n",
            "           1       0.81      1.00      0.89       879\n",
            "           2       1.00      0.97      0.98     11887\n",
            "           3       0.84      0.96      0.89       853\n",
            "           4       0.93      0.98      0.95      1117\n",
            "           5       1.00      0.91      0.95       636\n",
            "\n",
            "    accuracy                           0.97     15805\n",
            "   macro avg       0.91      0.97      0.93     15805\n",
            "weighted avg       0.97      0.97      0.97     15805\n",
            "\n"
          ]
        }
      ],
      "source": [
        "#for countvectorizer\n",
        "from sklearn.naive_bayes import MultinomialNB\n",
        "model = MultinomialNB()\n",
        "model.fit(train_xs, train_ys)\n",
        "\n",
        "train_ys_pred = model.predict(train_xs)\n",
        "test_ys_pred = model.predict(test_xs)\n",
        "\n",
        "\n",
        "print(\"Test accuracy:\", accuracy_score(test_ys, test_ys_pred))\n",
        "\n",
        "#classification report\n",
        "print(classification_report(test_ys, test_ys_pred))\n",
        "\n"
      ]
    },
    {
      "cell_type": "code",
      "execution_count": 1,
      "id": "188e1f53",
      "metadata": {},
      "outputs": [
        {
          "ename": "NameError",
          "evalue": "name 'TfidfVectorizer' is not defined",
          "output_type": "error",
          "traceback": [
            "\u001b[0;31m---------------------------------------------------------------------------\u001b[0m",
            "\u001b[0;31mNameError\u001b[0m                                 Traceback (most recent call last)",
            "Cell \u001b[0;32mIn[1], line 2\u001b[0m\n\u001b[1;32m      1\u001b[0m \u001b[38;5;66;03m# for tfidf\u001b[39;00m\n\u001b[0;32m----> 2\u001b[0m td_idf \u001b[38;5;241m=\u001b[39m \u001b[43mTfidfVectorizer\u001b[49m(max_features\u001b[38;5;241m=\u001b[39m\u001b[38;5;241m5000\u001b[39m)\n\u001b[1;32m      3\u001b[0m xs_2 \u001b[38;5;241m=\u001b[39m td_idf\u001b[38;5;241m.\u001b[39mfit_transform(all_df\u001b[38;5;241m.\u001b[39mtext)\u001b[38;5;241m.\u001b[39mtoarray()\n\u001b[1;32m      4\u001b[0m train_xs_2, test_xs_2, train_ys_2, test_ys_2 \u001b[38;5;241m=\u001b[39m train_test_split(\n\u001b[1;32m      5\u001b[0m     xs_2, ys, test_size\u001b[38;5;241m=\u001b[39m\u001b[38;5;241m0.3\u001b[39m, random_state\u001b[38;5;241m=\u001b[39m\u001b[38;5;241m0\u001b[39m, shuffle\u001b[38;5;241m=\u001b[39m\u001b[38;5;28;01mTrue\u001b[39;00m\n\u001b[1;32m      6\u001b[0m )\n",
            "\u001b[0;31mNameError\u001b[0m: name 'TfidfVectorizer' is not defined"
          ]
        }
      ],
      "source": [
        "# for tfidf\n",
        "td_idf = TfidfVectorizer(max_features=5000)\n",
        "xs_2 = td_idf.fit_transform(all_df.text).toarray()\n",
        "train_xs_2, test_xs_2, train_ys_2, test_ys_2 = train_test_split(\n",
        "    xs_2, ys, test_size=0.3, random_state=0, shuffle=True\n",
        ")\n",
        "model_1 = MultinomialNB()\n",
        "model_1.fit(train_xs_2, train_ys_2)\n",
        "\n",
        "train_ys_pred_2 = model_1.predict(train_xs_2)\n",
        "test_ys_pred_2 = model_1.predict(test_xs_2)\n",
        "\n",
        "\n",
        "print(\"Test accuracy:\", accuracy_score(test_ys_2, test_ys_pred_2))\n",
        "\n",
        "#classification report\n",
        "print(classification_report(test_ys_2, test_ys_pred_2))"
      ]
    },
    {
      "cell_type": "markdown",
      "id": "s7D8W5OWsLTs",
      "metadata": {
        "id": "s7D8W5OWsLTs"
      },
      "source": [
        "#### 🚧 TODO: `MultinomialNB` vs. `GaussianNB` classifiers\n",
        "\n",
        "*   Use both to classify the data\n",
        "\n",
        "*   Compare their results in terms of accuracy and show their `classification_report`"
      ]
    },
    {
      "cell_type": "code",
      "execution_count": null,
      "id": "f389d383",
      "metadata": {},
      "outputs": [],
      "source": [
        "#multinomialNB vs GaussianNB\n",
        "from sklearn.naive_bayes import GaussianNB\n",
        "model_2 = GaussianNB()\n",
        "model_2.fit(train_xs, train_ys)\n",
        "\n",
        "train_ys_pred = model_2.predict(train_xs)\n",
        "test_ys_pred = model_2.predict(test_xs)\n",
        "\n",
        "\n",
        "print(\"Train accuracy:\", accuracy_score(train_ys, train_ys_pred))\n",
        "print(\"Test accuracy:\", accuracy_score(test_ys, test_ys_pred))\n",
        "\n",
        "#classification report\n",
        "print(classification_report(test_ys, test_ys_pred))\n",
        "\n",
        "\n"
      ]
    },
    {
      "cell_type": "markdown",
      "id": "5d928327-bf23-4554-8f5f-aaee99c74697",
      "metadata": {
        "id": "5d928327-bf23-4554-8f5f-aaee99c74697"
      },
      "source": [
        "#### 🚧 TODO: Confusion matrix for the MultinomialNB classifier\n",
        "\n",
        "- Translate this result into a sentence"
      ]
    },
    {
      "cell_type": "code",
      "execution_count": null,
      "id": "7cb1876d",
      "metadata": {},
      "outputs": [
        {
          "data": {
            "image/png": "[encoded data removed]",
            "text/plain": [
              "<Figure size 640x480 with 2 Axes>"
            ]
          },
          "metadata": {
            "image/png": {
              "height": 439,
              "width": 539
            }
          },
          "output_type": "display_data"
        }
      ],
      "source": [
        "#confusion matrix on MultinomialNB\n",
        "\n",
        "cm = confusion_matrix(test_ys, test_ys_pred)\n",
        "disp = ConfusionMatrixDisplay(confusion_matrix=cm, display_labels=range(6))\n",
        "\n",
        "disp.plot()\n",
        "plt.show()\n"
      ]
    },
    {
      "cell_type": "markdown",
      "id": "53799ca9-8e2d-40b3-8922-6ad4e2ebc0d7",
      "metadata": {
        "id": "53799ca9-8e2d-40b3-8922-6ad4e2ebc0d7"
      },
      "source": [
        "#### 🚧 TODO: add the `stop_words=\"english\"` option to the `tf_idf` vectorizer\n",
        "\n",
        "*   Compare the size of the `sparse_xs` for the 2 conditions (stop words included or not)\n",
        "\n",
        "*   Retrain with the new vectorizer and the MultinomialNB classifier\n",
        "\n",
        "*   Compare the results with the previous vectorizer"
      ]
    },
    {
      "cell_type": "code",
      "execution_count": null,
      "id": "f07787af",
      "metadata": {},
      "outputs": [],
      "source": []
    },
    {
      "cell_type": "markdown",
      "id": "152ccd31",
      "metadata": {
        "id": "152ccd31"
      },
      "source": [
        "#### 🚧 TODO: PCA\n",
        "\n",
        "*   Apply PCA to project on 2 dimensions to all vectors (train and test) and plot them\n",
        "\n",
        "*   Compare the plot with the previous vectorizer with, and without the `stop_words=\"english\"` option\n",
        "\n",
        "*   Explain the difference breafly"
      ]
    },
    {
      "cell_type": "markdown",
      "id": "MoNbueUOsLTt",
      "metadata": {
        "id": "MoNbueUOsLTt"
      },
      "source": [
        "#### 🚧 TODO: Train on PCA\n",
        "\n",
        "*   Apply PCA to project on 2 dimensions to all vectors (train and test), fitting the PCA only on the training set\n",
        "\n",
        "*   Train the MultinomialNB and the GaussianNB classifiers on the PCA vectors\n",
        "\n",
        "    Does it work with both classifiers? Explain breafly.\n",
        "\n",
        "*   Compare the results with the vectorizer with, and without, the `stop_words=\"english\"` option\n",
        "\n",
        "*   Analyze the difference breafly"
      ]
    },
    {
      "cell_type": "markdown",
      "id": "b9dada15-875a-4aea-8d31-01011ef6662b",
      "metadata": {
        "id": "b9dada15-875a-4aea-8d31-01011ef6662b"
      },
      "source": [
        "#### 🚧 TODO: PCA with more dimensions\n",
        "\n",
        "*   Try to find the best number of dimensions for the PCA with [`GridSearchCV`](sklearn.model_selection.GridSearchCV)\n",
        "\n",
        "*   Use pipeline to combine the PCA and the classifier and other potential preprocessing steps\n",
        "\n",
        "*   Boxplot accuracyies for different PCA dimension values using [`GridSearchCV`](sklearn.model_selection.GridSearchCV)"
      ]
    },
    {
      "cell_type": "markdown",
      "id": "4874beb9-408c-467f-9a26-9c6e39c4c678",
      "metadata": {
        "id": "4874beb9-408c-467f-9a26-9c6e39c4c678"
      },
      "source": [
        "## N-grams features for text classification\n",
        "\n",
        "*   We will use bigram in this section"
      ]
    },
    {
      "cell_type": "code",
      "execution_count": null,
      "id": "06ffb414-1b14-439f-9f1b-857fc3736956",
      "metadata": {
        "id": "06ffb414-1b14-439f-9f1b-857fc3736956"
      },
      "outputs": [],
      "source": [
        "vectorizer_2g = CountVectorizer(\n",
        "    analyzer=\"word\", ngram_range=(2, 2), max_features=5000,\n",
        ")\n",
        "x2gs = vectorizer_2g.fit_transform(all_df.text).toarray()"
      ]
    },
    {
      "cell_type": "code",
      "execution_count": null,
      "id": "4ad83427-2c40-448c-a68b-2e67af18c439",
      "metadata": {
        "id": "4ad83427-2c40-448c-a68b-2e67af18c439"
      },
      "outputs": [],
      "source": [
        "pd.DataFrame(vectorizer_2g.get_feature_names_out(), columns=[\"bigrams\"])"
      ]
    },
    {
      "cell_type": "code",
      "execution_count": null,
      "id": "4ffc1cd1-36a2-41e4-9d6a-9e51a550e6a3",
      "metadata": {
        "id": "4ffc1cd1-36a2-41e4-9d6a-9e51a550e6a3"
      },
      "outputs": [],
      "source": [
        "train_xs, test_xs, train_ys, test_ys = train_test_split(\n",
        "    x2gs, ys, test_size=0.3, random_state=0, shuffle=True\n",
        ")\n",
        "print(train_xs.shape)\n",
        "print(test_xs.shape)"
      ]
    },
    {
      "cell_type": "markdown",
      "id": "096i7uxxsLTt",
      "metadata": {
        "id": "096i7uxxsLTt"
      },
      "source": [
        "#### 🚧 TODO: Train classification models on n-grams\n",
        "\n",
        "*   Train on the `CountVectorizer` with bigrams using the `MultinomialNB` classifier\n",
        "\n",
        "*   Compare the results with the previous \"raw\" `CountVectorizer`"
      ]
    },
    {
      "cell_type": "markdown",
      "id": "8c71a315-40b6-4739-bb20-a6a6a3724c7c",
      "metadata": {
        "id": "8c71a315-40b6-4739-bb20-a6a6a3724c7c"
      },
      "source": [
        "---\n",
        "## Building an n-gram generator\n",
        "___"
      ]
    },
    {
      "cell_type": "markdown",
      "id": "549f111f-d2ae-4ee4-bb99-689b2dd8ec68",
      "metadata": {
        "id": "549f111f-d2ae-4ee4-bb99-689b2dd8ec68"
      },
      "source": [
        "### Let's build character trigrams first"
      ]
    },
    {
      "cell_type": "code",
      "execution_count": null,
      "id": "7042cea6-8886-4bc1-b824-75a84de70b75",
      "metadata": {
        "id": "7042cea6-8886-4bc1-b824-75a84de70b75"
      },
      "outputs": [],
      "source": [
        "LINE = \"This is cool!\"\n",
        "N = 3\n",
        "[LINE[i : i + N] for i in range(len(LINE) - N + 1)]"
      ]
    },
    {
      "cell_type": "code",
      "execution_count": null,
      "id": "2c7d6a3b-6032-498d-8317-2091c402c5e5",
      "metadata": {
        "id": "2c7d6a3b-6032-498d-8317-2091c402c5e5"
      },
      "outputs": [],
      "source": [
        "[tuple(LINE[i : i + N]) for i in range(len(LINE) - N + 1)]"
      ]
    },
    {
      "cell_type": "code",
      "execution_count": null,
      "id": "61fa1606-e4c9-448d-b6a8-bf6d06339a71",
      "metadata": {
        "id": "61fa1606-e4c9-448d-b6a8-bf6d06339a71"
      },
      "outputs": [],
      "source": [
        "LINES = \"\"\"This is cool!\n",
        "This is amazing!\n",
        "But why is this his fish?\"\"\"\n",
        "\n",
        "re.split(\"\\n+\", LINES.lower())"
      ]
    },
    {
      "cell_type": "code",
      "execution_count": null,
      "id": "83ac1be4-fb00-451a-a4ec-e402e6e7fd97",
      "metadata": {
        "id": "83ac1be4-fb00-451a-a4ec-e402e6e7fd97"
      },
      "outputs": [],
      "source": [
        "ngrams = collections.Counter()\n",
        "\n",
        "for line in re.split(\"\\n+\", LINES.lower()):\n",
        "    ngrams.update([line[i : i + N] for i in range(len(line) - N + 1)])\n",
        "\n",
        "nc_df = pd.DataFrame.from_dict(\n",
        "    ngrams, orient=\"index\", columns=[\"freq\"]\n",
        ").sort_values(\"freq\", ascending=False)\n",
        "\n",
        "nc_df.head(7)"
      ]
    },
    {
      "cell_type": "markdown",
      "id": "ca11b3ea-589e-4f1b-840f-67c386a0edb3",
      "metadata": {
        "id": "ca11b3ea-589e-4f1b-840f-67c386a0edb3"
      },
      "source": [
        "### Back to our corpora"
      ]
    },
    {
      "cell_type": "markdown",
      "id": "Yyyqnj7XsLTy",
      "metadata": {
        "id": "Yyyqnj7XsLTy"
      },
      "source": [
        "#### 🚧 TODO: Build an ngram generator for the `\"woodworking\"` corpus\n",
        "\n",
        "*   Tokenize the corpus first with `nltk.word_tokenize`\n",
        "\n",
        "*   Normalize the tokens by simply simply lowercasing them\n",
        "\n",
        "*   Give the tokens frequency to the ngram generator"
      ]
    },
    {
      "cell_type": "code",
      "execution_count": null,
      "id": "8b4d2af9-32ff-4e0b-abe1-ad70b29c5685",
      "metadata": {
        "id": "8b4d2af9-32ff-4e0b-abe1-ad70b29c5685"
      },
      "outputs": [],
      "source": [
        "wood_df = all_df[all_df.category == \"woodworking\"]\n",
        "wood_df.head()"
      ]
    },
    {
      "cell_type": "code",
      "execution_count": null,
      "id": "74899092-8c6d-432a-bb04-eaf2c104b2e7",
      "metadata": {
        "id": "74899092-8c6d-432a-bb04-eaf2c104b2e7"
      },
      "outputs": [],
      "source": [
        "wood_txt = wood_df.iloc[0].text\n",
        "print(wood_txt[:333])"
      ]
    },
    {
      "cell_type": "markdown",
      "id": "JWwnwcp1sLTy",
      "metadata": {
        "id": "JWwnwcp1sLTy"
      },
      "source": [
        "#### 🚧 TODO: Text generation with ngrams\n",
        "\n",
        "*   Generate a text of words until a stop word is generated (`.`)\n",
        "\n",
        "*   Assign a probability to each ngrams based on their frequency\n",
        "\n",
        "*   Sample from the ngrams based on their probability\n",
        "\n",
        "*   Try different starting words (use bigrams)\n",
        "\n",
        " *Note:* [`default_rng`](https://numpy.org/doc/stable/reference/random/generator.html#numpy.random.default_rng) is the recommended constructor for random number generation in NumPy."
      ]
    },
    {
      "cell_type": "markdown",
      "id": "ca86525f-c78b-465b-bcc8-7f281bfd6176",
      "metadata": {
        "id": "ca86525f-c78b-465b-bcc8-7f281bfd6176"
      },
      "source": [
        "### TODO (optional): Improve this algorithm\n",
        "\n",
        "- Try to fix some possible issues, by handeling exceptions\n",
        "\n",
        "- Improve the output spacing (no space before comma, etc.) and maybe handle the upper case\n",
        "\n",
        "- Try on a different domain of our corpus"
      ]
    },
    {
      "cell_type": "markdown",
      "id": "1d850e54-f593-4be9-967b-fffd88423ed9",
      "metadata": {
        "id": "1d850e54-f593-4be9-967b-fffd88423ed9"
      },
      "source": [
        "---"
      ]
    }
  ],
  "metadata": {
    "colab": {
      "provenance": []
    },
    "kernelspec": {
      "display_name": "Python 3",
      "language": "python",
      "name": "python3"
    },
    "language_info": {
      "codemirror_mode": {
        "name": "ipython",
        "version": 3
      },
      "file_extension": ".py",
      "mimetype": "text/x-python",
      "name": "python",
      "nbconvert_exporter": "python",
      "pygments_lexer": "ipython3",
      "version": "3.12.2"
    }
  },
  "nbformat": 4,
  "nbformat_minor": 5
}
