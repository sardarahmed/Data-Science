{
 "cells": [
  {
   "cell_type": "code",
   "execution_count": 1,
   "metadata": {},
   "outputs": [],
   "source": [
    "import pandas as pd\n",
    "import numpy as np"
   ]
  },
  {
   "cell_type": "code",
   "execution_count": 2,
   "metadata": {},
   "outputs": [],
   "source": [
    "data = pd.read_csv('Data/deliveries.csv')"
   ]
  },
  {
   "cell_type": "code",
   "execution_count": 3,
   "metadata": {},
   "outputs": [
    {
     "name": "stdout",
     "output_type": "stream",
     "text": [
      "<class 'pandas.core.frame.DataFrame'>\n",
      "RangeIndex: 150460 entries, 0 to 150459\n",
      "Data columns (total 21 columns):\n",
      " #   Column            Non-Null Count   Dtype \n",
      "---  ------            --------------   ----- \n",
      " 0   match_id          150460 non-null  int64 \n",
      " 1   inning            150460 non-null  int64 \n",
      " 2   batting_team      150460 non-null  object\n",
      " 3   bowling_team      150460 non-null  object\n",
      " 4   over              150460 non-null  int64 \n",
      " 5   ball              150460 non-null  int64 \n",
      " 6   batsman           150460 non-null  object\n",
      " 7   non_striker       150460 non-null  object\n",
      " 8   bowler            150460 non-null  object\n",
      " 9   is_super_over     150460 non-null  int64 \n",
      " 10  wide_runs         150460 non-null  int64 \n",
      " 11  bye_runs          150460 non-null  int64 \n",
      " 12  legbye_runs       150460 non-null  int64 \n",
      " 13  noball_runs       150460 non-null  int64 \n",
      " 14  penalty_runs      150460 non-null  int64 \n",
      " 15  batsman_runs      150460 non-null  int64 \n",
      " 16  extra_runs        150460 non-null  int64 \n",
      " 17  total_runs        150460 non-null  int64 \n",
      " 18  player_dismissed  7438 non-null    object\n",
      " 19  dismissal_kind    7438 non-null    object\n",
      " 20  fielder           5369 non-null    object\n",
      "dtypes: int64(13), object(8)\n",
      "memory usage: 24.1+ MB\n"
     ]
    }
   ],
   "source": [
    "data.info()"
   ]
  },
  {
   "cell_type": "code",
   "execution_count": null,
   "metadata": {},
   "outputs": [],
   "source": []
  }
 ],
 "metadata": {
  "kernelspec": {
   "display_name": "Python 3",
   "language": "python",
   "name": "python3"
  },
  "language_info": {
   "codemirror_mode": {
    "name": "ipython",
    "version": 3
   },
   "file_extension": ".py",
   "mimetype": "text/x-python",
   "name": "python",
   "nbconvert_exporter": "python",
   "pygments_lexer": "ipython3",
   "version": "3.12.2"
  }
 },
 "nbformat": 4,
 "nbformat_minor": 2
}
