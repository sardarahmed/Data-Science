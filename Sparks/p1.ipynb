{
 "cells": [
  {
   "cell_type": "code",
   "execution_count": 6,
   "metadata": {},
   "outputs": [],
   "source": [
    "from pyspark.sql import SparkSession\n",
    "import pandas as pd \n",
    "import numpy as np"
   ]
  },
  {
   "cell_type": "code",
   "execution_count": 7,
   "metadata": {},
   "outputs": [],
   "source": [
    "spark = SparkSession.builder.appName(\"Spark Basics\").getOrCreate()"
   ]
  },
  {
   "cell_type": "code",
   "execution_count": 11,
   "metadata": {},
   "outputs": [
    {
     "name": "stdout",
     "output_type": "stream",
     "text": [
      "[1, 2, 3, 4, 5, 6, 7, 8, 9, 10]\n",
      "[2, 4, 6, 8, 10]\n"
     ]
    }
   ],
   "source": [
    "#create a rdd \n",
    "rdd = spark.sparkContext.parallelize([1,2,3,4,5,6,7,8,9,10])\n",
    "print(rdd.collect())\n",
    "\n",
    "rdd_filter = rdd.filter(lambda x: x%2 == 0)\n",
    "print(rdd_filter.collect())"
   ]
  },
  {
   "cell_type": "code",
   "execution_count": 12,
   "metadata": {},
   "outputs": [
    {
     "name": "stdout",
     "output_type": "stream",
     "text": [
      "+-----+---+\n",
      "| Name|Age|\n",
      "+-----+---+\n",
      "|Ahmed| 25|\n",
      "|  Ali| 30|\n",
      "| Sara| 35|\n",
      "| Sana| 40|\n",
      "+-----+---+\n",
      "\n",
      "+----+---+\n",
      "|Name|Age|\n",
      "+----+---+\n",
      "|Sara| 35|\n",
      "|Sana| 40|\n",
      "+----+---+\n",
      "\n"
     ]
    }
   ],
   "source": [
    "#create a dataframe \n",
    "data = [(\"Ahmed\", 25), (\"Ali\", 30), (\"Sara\", 35), (\"Sana\", 40)]\n",
    "columns = [\"Name\", \"Age\"]\n",
    "df = spark.createDataFrame(data, columns)\n",
    "df.show()\n",
    "\n",
    "#filter the dataframe\n",
    "df_filter = df.filter(df.Age > 30)\n",
    "df_filter.show()"
   ]
  }
 ],
 "metadata": {
  "kernelspec": {
   "display_name": "Python 3",
   "language": "python",
   "name": "python3"
  },
  "language_info": {
   "codemirror_mode": {
    "name": "ipython",
    "version": 3
   },
   "file_extension": ".py",
   "mimetype": "text/x-python",
   "name": "python",
   "nbconvert_exporter": "python",
   "pygments_lexer": "ipython3",
   "version": "3.12.1"
  }
 },
 "nbformat": 4,
 "nbformat_minor": 2
}
